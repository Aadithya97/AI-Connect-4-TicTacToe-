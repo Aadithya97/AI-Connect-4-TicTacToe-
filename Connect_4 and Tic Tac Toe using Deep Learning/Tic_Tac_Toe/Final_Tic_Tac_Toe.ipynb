{
 "cells": [
  {
   "cell_type": "markdown",
   "metadata": {
    "id": "928d1d6c"
   },
   "source": [
    "# CLASSIFIERS"
   ]
  },
  {
   "cell_type": "code",
   "execution_count": 59,
   "metadata": {
    "id": "ab4c6cd4"
   },
   "outputs": [],
   "source": [
    "import numpy as np\n",
    "import pandas as pd\n",
    "import matplotlib.pyplot as plt\n",
    "%matplotlib inline\n",
    "from sklearn.neighbors import KNeighborsClassifier\n",
    "from sklearn.metrics import accuracy_score\n",
    "from sklearn.metrics import confusion_matrix\n",
    "from sklearn.metrics import ConfusionMatrixDisplay\n",
    "from sklearn.neighbors import KNeighborsRegressor\n",
    "from sklearn.model_selection import StratifiedKFold\n",
    "from sklearn.model_selection import train_test_split\n",
    "from sklearn.model_selection import KFold\n",
    "from sklearn.neural_network import MLPClassifier\n",
    "from sklearn.linear_model import LinearRegression\n",
    "from sklearn.neural_network import MLPRegressor\n",
    "from sklearn.preprocessing import LabelEncoder\n",
    "from sklearn import svm\n",
    "import pickle\n",
    "import copy\n",
    "import warnings\n",
    "warnings.filterwarnings('ignore')"
   ]
  },
  {
   "cell_type": "code",
   "execution_count": 60,
   "metadata": {
    "id": "ec97a1be"
   },
   "outputs": [],
   "source": [
    "#Setting the seed to main consistency across models for comparison\n",
    "np.random.seed(5)"
   ]
  },
  {
   "cell_type": "markdown",
   "metadata": {
    "id": "928d1d6c"
   },
   "source": [
    "# KNN Classification on Final Dataset"
   ]
  },
  {
   "cell_type": "code",
   "execution_count": 61,
   "metadata": {
    "id": "778a8907"
   },
   "outputs": [],
   "source": [
    "#Reading the data\n",
    "data=np.loadtxt('tictac_final.txt')\n",
    "\n",
    "#Creating a dataframe to understand the data\n",
    "df=pd.DataFrame(data=data,columns=[\"input_column {}\".format(i) for i in range(1,10)]+[\"target\"])\n",
    "\n",
    "#Separating features and target from the dataframe\n",
    "X=np.array(df.iloc[:,:-1])\n",
    "y=np.array(df.iloc[:,-1])"
   ]
  },
  {
   "cell_type": "code",
   "execution_count": 62,
   "metadata": {
    "id": "08f68133"
   },
   "outputs": [],
   "source": [
    "#Performing train, test, val split\n",
    "X_train, X_test, y_train, y_test = train_test_split(X,y,train_size=0.8,shuffle=True)\n",
    "X_train, X_val, y_train, y_val = train_test_split(X_train,y_train,train_size=0.75,shuffle=True)"
   ]
  },
  {
   "cell_type": "code",
   "execution_count": 63,
   "metadata": {
    "colab": {
     "base_uri": "https://localhost:8080/",
     "height": 296
    },
    "id": "b17cb74c",
    "outputId": "50cc5007-aefc-4c9c-823f-9f4cd2d3c17d"
   },
   "outputs": [
    {
     "data": {
      "text/plain": [
       "Text(0, 0.5, 'Validation error')"
      ]
     },
     "execution_count": 63,
     "metadata": {},
     "output_type": "execute_result"
    },
    {
     "data": {
      "image/png": "[encoded data removed]",
      "text/plain": [
       "<Figure size 432x288 with 1 Axes>"
      ]
     },
     "metadata": {
      "needs_background": "light"
     },
     "output_type": "display_data"
    }
   ],
   "source": [
    "#Hyperparameter tuning (Finding suitable number of neighbors)\n",
    "n_neighbors=[]\n",
    "validation_error=[]\n",
    "for i in range(1,10):\n",
    "    n_neighbors.append(i)\n",
    "    k_neighbors_model=KNeighborsClassifier(n_neighbors=i)\n",
    "    k_neighbors_model.fit(X_train,y_train)\n",
    "    validation_error.append(1-np.mean(k_neighbors_model.predict(X_val)==y_val))\n",
    "plt.plot(n_neighbors,validation_error)\n",
    "plt.xlabel(\"Number of neighbors\")\n",
    "plt.ylabel(\"Validation error\")"
   ]
  },
  {
   "cell_type": "code",
   "execution_count": 64,
   "metadata": {
    "colab": {
     "base_uri": "https://localhost:8080/",
     "height": 403
    },
    "id": "2635c1fa",
    "outputId": "cdedc13a-6529-46e3-e558-2e035a3481a9"
   },
   "outputs": [
    {
     "name": "stdout",
     "output_type": "stream",
     "text": [
      "Accuracy of KNN Classifier on Final dataset is 1.0\n",
      "******\n",
      "Confusion matrix\n"
     ]
    },
    {
     "data": {
      "image/png": "[encoded data removed]",
      "text/plain": [
       "<Figure size 432x288 with 2 Axes>"
      ]
     },
     "metadata": {
      "needs_background": "light"
     },
     "output_type": "display_data"
    },
    {
     "name": "stdout",
     "output_type": "stream",
     "text": [
      "******\n",
      "Normalized confusion matrix\n",
      "[[1 0]\n",
      " [0 1]]\n"
     ]
    }
   ],
   "source": [
    "#Finding accuracy of KNN Classifier (number of neighbors=1)\n",
    "final_model=KNeighborsClassifier(n_neighbors=1)\n",
    "final_model.fit(X_test,y_test)\n",
    "test_error=1-np.mean(final_model.predict(X_test)==y_test)\n",
    "y_pred=final_model.predict(X_test)\n",
    "print(\"Accuracy of KNN Classifier on Final dataset is {}\".format(1-test_error))\n",
    "print(\"******\")\n",
    "print(\"Confusion matrix\")\n",
    "cm_display = ConfusionMatrixDisplay(confusion_matrix = confusion_matrix(y_test,y_pred), display_labels = [True, False])\n",
    "cm_display.plot()\n",
    "plt.show()\n",
    "print(\"******\")\n",
    "print(\"Normalized confusion matrix\")\n",
    "cm=confusion_matrix(y_test,y_pred)\n",
    "n=len(cm)\n",
    "for row in range(n):\n",
    "    s=sum(cm[row])\n",
    "    for column in range(n):\n",
    "        cm[row][column]=cm[row][column]/s\n",
    "print(cm)"
   ]
  },
  {
   "cell_type": "code",
   "execution_count": 65,
   "metadata": {
    "colab": {
     "base_uri": "https://localhost:8080/"
    },
    "id": "3e9412ce",
    "outputId": "dd70b0b4-676d-422a-d2bf-bf976e4f0ef1"
   },
   "outputs": [
    {
     "name": "stdout",
     "output_type": "stream",
     "text": [
      "Maximum test accuracy acheived with K-Fold Cross validation is 1.0\n"
     ]
    }
   ],
   "source": [
    "#Performing KFold Cross Validation on Final dataset\n",
    "from sklearn.model_selection import StratifiedKFold\n",
    "skf=StratifiedKFold(n_splits=5,random_state=37,shuffle=True)\n",
    "test_accuracies=[]\n",
    "for train_index,test_index in skf.split(X,y):\n",
    "    X_train,X_test=X[train_index],X[test_index]\n",
    "    y_train,y_test=y[train_index],y[test_index]\n",
    "    clf=KNeighborsClassifier(n_neighbors=1)\n",
    "    clf.fit(X_train,y_train)\n",
    "    test_accuracies.append(np.mean(clf.predict(X_test)==y_test))\n",
    "#print(len(test_accuracies))\n",
    "print(\"Maximum test accuracy acheived with K-Fold Cross validation is {}\".format(max(test_accuracies)))"
   ]
  },
  {
   "cell_type": "markdown",
   "metadata": {
    "id": "db7e13ce"
   },
   "source": [
    "# Single Label Intermediate boards optimal play (KNN Classifier)"
   ]
  },
  {
   "cell_type": "code",
   "execution_count": 66,
   "metadata": {
    "id": "b628640b"
   },
   "outputs": [],
   "source": [
    "#Reading the data\n",
    "data=np.loadtxt('tictac_single.txt')\n",
    "\n",
    "#Creating a dataframe to understand the data\n",
    "df=pd.DataFrame(data=data,columns=[\"input_column {}\".format(i) for i in range(1,10)]+[\"target\"])\n",
    "\n",
    "#Separating features and target from the dataframe\n",
    "X=np.array(df.iloc[:,:-1])\n",
    "y=np.array(df.iloc[:,-1])"
   ]
  },
  {
   "cell_type": "code",
   "execution_count": 67,
   "metadata": {
    "id": "0465576e"
   },
   "outputs": [],
   "source": [
    "#Performing train, test, val split\n",
    "from sklearn.model_selection import train_test_split\n",
    "X_train, X_test, y_train, y_test = train_test_split(X,y,train_size=0.8,shuffle=True)\n",
    "X_train, X_val, y_train, y_val = train_test_split(X_train,y_train,train_size=0.75,shuffle=True)"
   ]
  },
  {
   "cell_type": "code",
   "execution_count": 68,
   "metadata": {
    "colab": {
     "base_uri": "https://localhost:8080/",
     "height": 296
    },
    "id": "78bf08c3",
    "outputId": "8574dae2-8230-4c4e-f4cc-6a2b10f2ced6"
   },
   "outputs": [
    {
     "data": {
      "text/plain": [
       "Text(0, 0.5, 'Validation error')"
      ]
     },
     "execution_count": 68,
     "metadata": {},
     "output_type": "execute_result"
    },
    {
     "data": {
      "image/png": "[encoded data removed]",
      "text/plain": [
       "<Figure size 432x288 with 1 Axes>"
      ]
     },
     "metadata": {
      "needs_background": "light"
     },
     "output_type": "display_data"
    }
   ],
   "source": [
    "#Hyperparameter tuning (Finding suitable number of neighbors)\n",
    "n_neighbors=[]\n",
    "validation_error=[]\n",
    "for i in range(1,10):\n",
    "    n_neighbors.append(i)\n",
    "    k_neighbors_model=KNeighborsClassifier(n_neighbors=i)\n",
    "    k_neighbors_model.fit(X_train,y_train)\n",
    "    validation_error.append(1-np.mean(k_neighbors_model.predict(X_val)==y_val))\n",
    "plt.plot(n_neighbors,validation_error)\n",
    "plt.xlabel(\"Number of neighbors\")\n",
    "plt.ylabel(\"Validation error\")"
   ]
  },
  {
   "cell_type": "code",
   "execution_count": 69,
   "metadata": {
    "colab": {
     "base_uri": "https://localhost:8080/",
     "height": 522
    },
    "id": "b0c2b7c5",
    "outputId": "c81c9660-8c65-49ac-cd9e-f66dd261b7af"
   },
   "outputs": [
    {
     "name": "stdout",
     "output_type": "stream",
     "text": [
      "Accuracy of KNN Classifier on Final dataset is 1.0\n",
      "******\n",
      "Confusion matrix\n"
     ]
    },
    {
     "data": {
      "image/png": "[encoded data removed]",
      "text/plain": [
       "<Figure size 432x288 with 2 Axes>"
      ]
     },
     "metadata": {
      "needs_background": "light"
     },
     "output_type": "display_data"
    },
    {
     "name": "stdout",
     "output_type": "stream",
     "text": [
      "******\n",
      "Normalized confusion matrix\n",
      "[[1 0 0 0 0 0 0 0 0]\n",
      " [0 1 0 0 0 0 0 0 0]\n",
      " [0 0 1 0 0 0 0 0 0]\n",
      " [0 0 0 1 0 0 0 0 0]\n",
      " [0 0 0 0 1 0 0 0 0]\n",
      " [0 0 0 0 0 1 0 0 0]\n",
      " [0 0 0 0 0 0 1 0 0]\n",
      " [0 0 0 0 0 0 0 1 0]\n",
      " [0 0 0 0 0 0 0 0 1]]\n"
     ]
    }
   ],
   "source": [
    "#Finding accuracy of KNN Classifier (number of neighbors=1)\n",
    "final_model=KNeighborsClassifier(n_neighbors=1)\n",
    "final_model.fit(X_test,y_test)\n",
    "test_error=1-np.mean(final_model.predict(X_test)==y_test)\n",
    "y_pred=final_model.predict(X_test)\n",
    "print(\"Accuracy of KNN Classifier on Final dataset is {}\".format(1-test_error))\n",
    "print(\"******\")\n",
    "print(\"Confusion matrix\")\n",
    "cm_display = ConfusionMatrixDisplay(confusion_matrix = confusion_matrix(y_test,y_pred))\n",
    "cm_display.plot()\n",
    "plt.show()\n",
    "print(\"******\")\n",
    "print(\"Normalized confusion matrix\")\n",
    "cm=confusion_matrix(y_test,y_pred)\n",
    "n=len(cm)\n",
    "for row in range(n):\n",
    "    s=sum(cm[row])\n",
    "    for column in range(n):\n",
    "        cm[row][column]=cm[row][column]/s\n",
    "print(cm)"
   ]
  },
  {
   "cell_type": "code",
   "execution_count": 70,
   "metadata": {
    "colab": {
     "base_uri": "https://localhost:8080/"
    },
    "id": "0d09049d",
    "outputId": "1cfb4ca8-8d4a-4f49-f42d-a9b784e560cd"
   },
   "outputs": [
    {
     "name": "stdout",
     "output_type": "stream",
     "text": [
      "Maximum test accuracy acheived with K-Fold Cross validation is 0.9267734553775744\n"
     ]
    }
   ],
   "source": [
    "#Performing KFold Cross Validation on Final dataset\n",
    "from sklearn.model_selection import StratifiedKFold\n",
    "skf=StratifiedKFold(n_splits=15,random_state=37,shuffle=True)\n",
    "test_accuracies=[]\n",
    "for train_index,test_index in skf.split(X,y):\n",
    "    X_train,X_test=X[train_index],X[test_index]\n",
    "    y_train,y_test=y[train_index],y[test_index]\n",
    "    clf=KNeighborsClassifier(n_neighbors=1)\n",
    "    clf.fit(X_train,y_train)\n",
    "    test_accuracies.append(np.mean(clf.predict(X_test)==y_test))\n",
    "#print(len(test_accuracies))\n",
    "print(\"Maximum test accuracy acheived with K-Fold Cross validation is {}\".format(max(test_accuracies)))"
   ]
  },
  {
   "cell_type": "markdown",
   "metadata": {
    "id": "928d1d6c"
   },
   "source": [
    "# SVM on Final Dataset"
   ]
  },
  {
   "cell_type": "code",
   "execution_count": 71,
   "metadata": {
    "id": "hzfX4BzlM99W"
   },
   "outputs": [],
   "source": [
    "np.random.seed(5)"
   ]
  },
  {
   "cell_type": "code",
   "execution_count": 72,
   "metadata": {
    "id": "qWCHH8L3NBVa"
   },
   "outputs": [],
   "source": [
    "#Reading the data\n",
    "data=np.loadtxt('tictac_final.txt')\n",
    "\n",
    "#Creating a dataframe to understand the data\n",
    "df=pd.DataFrame(data=data,columns=[\"input_column {}\".format(i) for i in range(1,10)]+[\"target\"])\n",
    "\n",
    "#Separating features and target from the dataframe\n",
    "X=np.array(df.iloc[:,:-1])\n",
    "y=np.array(df.iloc[:,-1])"
   ]
  },
  {
   "cell_type": "code",
   "execution_count": 73,
   "metadata": {
    "id": "6_6w1loNNE4m"
   },
   "outputs": [],
   "source": [
    "#Performing train, test split\n",
    "X_train, X_test, y_train, y_test = train_test_split(X,y,train_size=0.8,shuffle=True)"
   ]
  },
  {
   "cell_type": "code",
   "execution_count": 74,
   "metadata": {
    "colab": {
     "base_uri": "https://localhost:8080/"
    },
    "id": "BxLML4LXy-wa",
    "outputId": "1d3fd4a9-d679-4109-c37d-b2addf5d516e"
   },
   "outputs": [
    {
     "data": {
      "text/html": [
       "<style>#sk-container-id-2 {color: black;background-color: white;}#sk-container-id-2 pre{padding: 0;}#sk-container-id-2 div.sk-toggleable {background-color: white;}#sk-container-id-2 label.sk-toggleable__label {cursor: pointer;display: block;width: 100%;margin-bottom: 0;padding: 0.3em;box-sizing: border-box;text-align: center;}#sk-container-id-2 label.sk-toggleable__label-arrow:before {content: \"▸\";float: left;margin-right: 0.25em;color: #696969;}#sk-container-id-2 label.sk-toggleable__label-arrow:hover:before {color: black;}#sk-container-id-2 div.sk-estimator:hover label.sk-toggleable__label-arrow:before {color: black;}#sk-container-id-2 div.sk-toggleable__content {max-height: 0;max-width: 0;overflow: hidden;text-align: left;background-color: #f0f8ff;}#sk-container-id-2 div.sk-toggleable__content pre {margin: 0.2em;color: black;border-radius: 0.25em;background-color: #f0f8ff;}#sk-container-id-2 input.sk-toggleable__control:checked~div.sk-toggleable__content {max-height: 200px;max-width: 100%;overflow: auto;}#sk-container-id-2 input.sk-toggleable__control:checked~label.sk-toggleable__label-arrow:before {content: \"▾\";}#sk-container-id-2 div.sk-estimator input.sk-toggleable__control:checked~label.sk-toggleable__label {background-color: #d4ebff;}#sk-container-id-2 div.sk-label input.sk-toggleable__control:checked~label.sk-toggleable__label {background-color: #d4ebff;}#sk-container-id-2 input.sk-hidden--visually {border: 0;clip: rect(1px 1px 1px 1px);clip: rect(1px, 1px, 1px, 1px);height: 1px;margin: -1px;overflow: hidden;padding: 0;position: absolute;width: 1px;}#sk-container-id-2 div.sk-estimator {font-family: monospace;background-color: #f0f8ff;border: 1px dotted black;border-radius: 0.25em;box-sizing: border-box;margin-bottom: 0.5em;}#sk-container-id-2 div.sk-estimator:hover {background-color: #d4ebff;}#sk-container-id-2 div.sk-parallel-item::after {content: \"\";width: 100%;border-bottom: 1px solid gray;flex-grow: 1;}#sk-container-id-2 div.sk-label:hover label.sk-toggleable__label {background-color: #d4ebff;}#sk-container-id-2 div.sk-serial::before {content: \"\";position: absolute;border-left: 1px solid gray;box-sizing: border-box;top: 0;bottom: 0;left: 50%;z-index: 0;}#sk-container-id-2 div.sk-serial {display: flex;flex-direction: column;align-items: center;background-color: white;padding-right: 0.2em;padding-left: 0.2em;position: relative;}#sk-container-id-2 div.sk-item {position: relative;z-index: 1;}#sk-container-id-2 div.sk-parallel {display: flex;align-items: stretch;justify-content: center;background-color: white;position: relative;}#sk-container-id-2 div.sk-item::before, #sk-container-id-2 div.sk-parallel-item::before {content: \"\";position: absolute;border-left: 1px solid gray;box-sizing: border-box;top: 0;bottom: 0;left: 50%;z-index: -1;}#sk-container-id-2 div.sk-parallel-item {display: flex;flex-direction: column;z-index: 1;position: relative;background-color: white;}#sk-container-id-2 div.sk-parallel-item:first-child::after {align-self: flex-end;width: 50%;}#sk-container-id-2 div.sk-parallel-item:last-child::after {align-self: flex-start;width: 50%;}#sk-container-id-2 div.sk-parallel-item:only-child::after {width: 0;}#sk-container-id-2 div.sk-dashed-wrapped {border: 1px dashed gray;margin: 0 0.4em 0.5em 0.4em;box-sizing: border-box;padding-bottom: 0.4em;background-color: white;}#sk-container-id-2 div.sk-label label {font-family: monospace;font-weight: bold;display: inline-block;line-height: 1.2em;}#sk-container-id-2 div.sk-label-container {text-align: center;}#sk-container-id-2 div.sk-container {/* jupyter's `normalize.less` sets `[hidden] { display: none; }` but bootstrap.min.css set `[hidden] { display: none !important; }` so we also need the `!important` here to be able to override the default hidden behavior on the sphinx rendered scikit-learn.org. See: https://github.com/scikit-learn/scikit-learn/issues/21755 */display: inline-block !important;position: relative;}#sk-container-id-2 div.sk-text-repr-fallback {display: none;}</style><div id=\"sk-container-id-2\" class=\"sk-top-container\"><div class=\"sk-text-repr-fallback\"><pre>SVC(kernel=&#x27;linear&#x27;)</pre><b>In a Jupyter environment, please rerun this cell to show the HTML representation or trust the notebook. <br />On GitHub, the HTML representation is unable to render, please try loading this page with nbviewer.org.</b></div><div class=\"sk-container\" hidden><div class=\"sk-item\"><div class=\"sk-estimator sk-toggleable\"><input class=\"sk-toggleable__control sk-hidden--visually\" id=\"sk-estimator-id-2\" type=\"checkbox\" checked><label for=\"sk-estimator-id-2\" class=\"sk-toggleable__label sk-toggleable__label-arrow\">SVC</label><div class=\"sk-toggleable__content\"><pre>SVC(kernel=&#x27;linear&#x27;)</pre></div></div></div></div></div>"
      ],
      "text/plain": [
       "SVC(kernel='linear')"
      ]
     },
     "execution_count": 74,
     "metadata": {},
     "output_type": "execute_result"
    }
   ],
   "source": [
    "clf = svm.SVC(kernel='linear', C = 1.0)\n",
    "clf.fit(X_train, y_train)"
   ]
  },
  {
   "cell_type": "code",
   "execution_count": 75,
   "metadata": {
    "colab": {
     "base_uri": "https://localhost:8080/",
     "height": 403
    },
    "id": "YEDRS37INIzT",
    "outputId": "0473ea76-2602-40b5-9c6c-e05d9457dc1b"
   },
   "outputs": [
    {
     "name": "stdout",
     "output_type": "stream",
     "text": [
      "Accuracy of SVM on Final dataset is 0.9791666666666666\n",
      "******\n",
      "Confusion matrix\n"
     ]
    },
    {
     "data": {
      "image/png": "[encoded data removed]",
      "text/plain": [
       "<Figure size 432x288 with 2 Axes>"
      ]
     },
     "metadata": {
      "needs_background": "light"
     },
     "output_type": "display_data"
    },
    {
     "name": "stdout",
     "output_type": "stream",
     "text": [
      "******\n",
      "Normalized confusion matrix\n",
      "[[0 0]\n",
      " [0 1]]\n"
     ]
    }
   ],
   "source": [
    "clf = svm.SVC(kernel = 'linear', C = 1.0)\n",
    "clf.fit(X_train, y_train)\n",
    "test_error=1-np.mean(clf.predict(X_test)==y_test)\n",
    "y_pred=clf.predict(X_test)\n",
    "print(\"Accuracy of SVM on Final dataset is {}\".format(1-test_error))\n",
    "print(\"******\")\n",
    "print(\"Confusion matrix\")\n",
    "cm_display = ConfusionMatrixDisplay(confusion_matrix = confusion_matrix(y_test,y_pred), display_labels = [True, False])\n",
    "cm_display.plot()\n",
    "plt.show()\n",
    "print(\"******\")\n",
    "print(\"Normalized confusion matrix\")\n",
    "cm=confusion_matrix(y_test,y_pred)\n",
    "n=len(cm)\n",
    "for row in range(n):\n",
    "    s=sum(cm[row])\n",
    "    for column in range(n):\n",
    "        cm[row][column]=cm[row][column]/s\n",
    "print(cm)"
   ]
  },
  {
   "cell_type": "code",
   "execution_count": 76,
   "metadata": {
    "colab": {
     "base_uri": "https://localhost:8080/"
    },
    "id": "35fSibT_0pCR",
    "outputId": "da50a976-7004-4405-d13f-6b17f369d1d4"
   },
   "outputs": [
    {
     "name": "stdout",
     "output_type": "stream",
     "text": [
      "Maximum test accuracy acheived with K-Fold Cross validation is 0.9947916666666666\n"
     ]
    }
   ],
   "source": [
    "#k- fold cross validation\n",
    "#Performing KFold Cross Validation on Final dataset\n",
    "from sklearn.model_selection import StratifiedKFold\n",
    "skf=StratifiedKFold(n_splits=5,random_state=37,shuffle=True)\n",
    "test_accuracies=[]\n",
    "for train_index,test_index in skf.split(X,y):\n",
    "    X_train,X_test=X[train_index],X[test_index]\n",
    "    y_train,y_test=y[train_index],y[test_index]\n",
    "    clf = svm.SVC(kernel = 'linear', C = 1.0)\n",
    "    clf.fit(X_train,y_train)\n",
    "    test_accuracies.append(np.mean(clf.predict(X_test)==y_test))\n",
    "#print(len(test_accuracies))\n",
    "print(\"Maximum test accuracy acheived with K-Fold Cross validation is {}\".format(max(test_accuracies)))"
   ]
  },
  {
   "cell_type": "markdown",
   "metadata": {
    "id": "DXoJJWRu1DEE"
   },
   "source": [
    "# Single Label Intermediate boards optimal play (SVM Classifier)"
   ]
  },
  {
   "cell_type": "code",
   "execution_count": 77,
   "metadata": {
    "id": "ORT3UbLe0qJL"
   },
   "outputs": [],
   "source": [
    "#Reading the data\n",
    "data=np.loadtxt('tictac_single.txt')\n",
    "\n",
    "#Creating a dataframe to understand the data\n",
    "df=pd.DataFrame(data=data,columns=[\"input_column {}\".format(i) for i in range(1,10)]+[\"target\"])\n",
    "\n",
    "#Separating features and target from the dataframe\n",
    "X=np.array(df.iloc[:,:-1])\n",
    "y=np.array(df.iloc[:,-1])"
   ]
  },
  {
   "cell_type": "code",
   "execution_count": 78,
   "metadata": {
    "id": "JGBVwl_K1Nxv"
   },
   "outputs": [],
   "source": [
    "#Performing train, test split\n",
    "from sklearn.model_selection import train_test_split\n",
    "X_train, X_test, y_train, y_test = train_test_split(X,y,train_size=0.8,shuffle=True)"
   ]
  },
  {
   "cell_type": "code",
   "execution_count": 79,
   "metadata": {
    "colab": {
     "base_uri": "https://localhost:8080/",
     "height": 522
    },
    "id": "XZvKGy691ZVY",
    "outputId": "9ece548a-5138-49ef-da21-374ac5aaea99"
   },
   "outputs": [
    {
     "name": "stdout",
     "output_type": "stream",
     "text": [
      "Accuracy of SVM Classifier on dataset is 0.4035087719298245\n",
      "******\n",
      "Confusion matrix\n"
     ]
    },
    {
     "data": {
      "image/png": "[encoded data removed]",
      "text/plain": [
       "<Figure size 432x288 with 2 Axes>"
      ]
     },
     "metadata": {
      "needs_background": "light"
     },
     "output_type": "display_data"
    },
    {
     "name": "stdout",
     "output_type": "stream",
     "text": [
      "******\n",
      "Normalized confusion matrix\n",
      "[[1 0 0 0 0 0 0 0 0]\n",
      " [0 0 0 0 0 0 0 0 0]\n",
      " [0 0 0 0 0 0 0 0 0]\n",
      " [0 0 0 0 0 0 0 0 0]\n",
      " [0 0 0 0 0 0 0 0 0]\n",
      " [0 0 0 0 0 0 0 0 0]\n",
      " [0 0 0 0 0 0 0 0 0]\n",
      " [0 0 0 0 0 0 0 0 0]\n",
      " [0 0 0 0 0 0 0 0 0]]\n"
     ]
    }
   ],
   "source": [
    "#Finding accuracy of SVM Classifier\n",
    "clf = svm.SVC(kernel='linear', C = 1.0)\n",
    "clf.fit(X_test,y_test)\n",
    "test_error=1-np.mean(clf.predict(X_test)==y_test)\n",
    "y_pred=clf.predict(X_test)\n",
    "print(\"Accuracy of SVM Classifier on dataset is {}\".format(1-test_error))\n",
    "print(\"******\")\n",
    "print(\"Confusion matrix\")\n",
    "cm_display = ConfusionMatrixDisplay(confusion_matrix = confusion_matrix(y_test,y_pred))\n",
    "cm_display.plot()\n",
    "plt.show()\n",
    "print(\"******\")\n",
    "print(\"Normalized confusion matrix\")\n",
    "cm=confusion_matrix(y_test,y_pred)\n",
    "n=len(cm)\n",
    "for row in range(n):\n",
    "    s=sum(cm[row])\n",
    "    for column in range(n):\n",
    "        cm[row][column]=cm[row][column]/s\n",
    "print(cm)"
   ]
  },
  {
   "cell_type": "code",
   "execution_count": 80,
   "metadata": {
    "colab": {
     "base_uri": "https://localhost:8080/"
    },
    "id": "LCorPmXt1brw",
    "outputId": "cc77ce50-452e-4210-c2c3-452ed93f090b"
   },
   "outputs": [
    {
     "name": "stdout",
     "output_type": "stream",
     "text": [
      "Maximum test accuracy acheived with K-Fold Cross validation is 0.5469107551487414\n"
     ]
    }
   ],
   "source": [
    "#Performing KFold Cross Validation on single dataset\n",
    "from sklearn.model_selection import StratifiedKFold\n",
    "skf=StratifiedKFold(n_splits=15,random_state=37,shuffle=True)\n",
    "test_accuracies=[]\n",
    "for train_index,test_index in skf.split(X,y):\n",
    "    X_train,X_test=X[train_index],X[test_index]\n",
    "    y_train,y_test=y[train_index],y[test_index]\n",
    "    clf = svm.SVC(kernel='linear', C = 1.0)\n",
    "    clf.fit(X_test,y_test)\n",
    "    test_accuracies.append(np.mean(clf.predict(X_test)==y_test))\n",
    "#print(len(test_accuracies))\n",
    "print(\"Maximum test accuracy acheived with K-Fold Cross validation is {}\".format(max(test_accuracies)))"
   ]
  },
  {
   "cell_type": "code",
   "execution_count": 81,
   "metadata": {
    "id": "c7czJyxLlwIY"
   },
   "outputs": [],
   "source": [
    "#Setting the seed to main consistency across models for comparison\n",
    "np.random.seed(5)"
   ]
  },
  {
   "cell_type": "markdown",
   "metadata": {
    "id": "eppZWrqhlwIY"
   },
   "source": [
    "# MLP Classifier on Final Dataset"
   ]
  },
  {
   "cell_type": "code",
   "execution_count": 82,
   "metadata": {
    "id": "KxqhNP8glwIY"
   },
   "outputs": [],
   "source": [
    "#Reading the data\n",
    "data=np.loadtxt('tictac_final.txt')\n",
    "\n",
    "#Creating a dataframe to understand the data\n",
    "#Separating features and target from the dataframe\n",
    "X=np.array(df.iloc[:,:-1])\n",
    "y=np.array(df.iloc[:,-1])"
   ]
  },
  {
   "cell_type": "code",
   "execution_count": 83,
   "metadata": {
    "id": "Bvi3llIrlwIY"
   },
   "outputs": [],
   "source": [
    "#Performing train, test, val split\n",
    "X_train, X_test, y_train, y_test = train_test_split(X,y,train_size=0.80,shuffle=True)\n",
    "X_train, X_val, y_train, y_val = train_test_split(X_train,y_train,train_size=0.85,shuffle=True)"
   ]
  },
  {
   "cell_type": "code",
   "execution_count": 84,
   "metadata": {
    "colab": {
     "base_uri": "https://localhost:8080/",
     "height": 626
    },
    "id": "dsBNOAU8lwIZ",
    "outputId": "f2eadb4d-062d-4e10-b099-340d688a73bb"
   },
   "outputs": [
    {
     "name": "stdout",
     "output_type": "stream",
     "text": [
      "Classification Accuracy : 0.5469107551487414\n",
      "Confusion Matrix: \n"
     ]
    },
    {
     "data": {
      "image/png": "[encoded data removed]",
      "text/plain": [
       "<Figure size 432x288 with 2 Axes>"
      ]
     },
     "metadata": {
      "needs_background": "light"
     },
     "output_type": "display_data"
    },
    {
     "name": "stdout",
     "output_type": "stream",
     "text": [
      "Normalized confusion matrix: [[1.         0.         0.         0.         0.         0.\n",
      "  0.         0.         0.        ]\n",
      " [0.08333333 0.52095808 0.09693878 0.01869159 0.13656388 0.\n",
      "  0.         0.         0.02247191]\n",
      " [0.15064103 0.04191617 0.53571429 0.00934579 0.15859031 0.\n",
      "  0.         0.         0.        ]\n",
      " [0.09615385 0.05988024 0.11734694 0.10280374 0.13656388 0.\n",
      "  0.01098901 0.         0.01123596]\n",
      " [0.13782051 0.         0.00510204 0.         0.8061674  0.\n",
      "  0.         0.         0.        ]\n",
      " [0.07051282 0.06586826 0.08673469 0.02803738 0.04845815 0.07142857\n",
      "  0.         0.         0.01123596]\n",
      " [0.12820513 0.01796407 0.1377551  0.01869159 0.06167401 0.\n",
      "  0.05494505 0.         0.        ]\n",
      " [0.07051282 0.04191617 0.04081633 0.03738318 0.03964758 0.\n",
      "  0.01098901 0.         0.01123596]\n",
      " [0.125      0.03592814 0.12755102 0.00934579 0.03524229 0.01428571\n",
      "  0.         0.         0.1011236 ]]\n"
     ]
    }
   ],
   "source": [
    "skf = StratifiedKFold(n_splits=10, random_state = 40, shuffle=True)\n",
    "#         print(skf.get_n_splits(X, y))\n",
    "clf = MLPClassifier(solver='adam', alpha=1e-3, max_iter=5, hidden_layer_sizes=(256,256,128,), random_state=20, activation = 'tanh')\n",
    "for train_indices, test_indices in skf.split(X_train, y_train):\n",
    "    clf.fit(X[train_indices], np.ravel(y[train_indices], order = 'C'))\n",
    "    #print(clf.score(X[test_indices], y[test_indices]))\n",
    "y_pred = clf.predict(X_test)\n",
    "print(\"Classification Accuracy : \" + str(accuracy_score(y_test, y_pred)))\n",
    "print(\"Confusion Matrix: \")\n",
    "cm_display = ConfusionMatrixDisplay(confusion_matrix = confusion_matrix(y_test,y_pred))\n",
    "cm_display.plot()\n",
    "plt.show()\n",
    "C = confusion_matrix(y_test, y_pred)\n",
    "C = C.astype(np.float)/C.astype(np.float).sum(axis=1)\n",
    "print(\"Normalized confusion matrix:\" , C)"
   ]
  },
  {
   "cell_type": "code",
   "execution_count": 85,
   "metadata": {
    "colab": {
     "base_uri": "https://localhost:8080/"
    },
    "id": "TKzKnv_jlwIZ",
    "outputId": "bb768bf1-907b-46ca-9e8d-9ee9073df16e"
   },
   "outputs": [
    {
     "name": "stdout",
     "output_type": "stream",
     "text": [
      "Maximum test accuracy acheived with K-Fold Cross validation is 0.8764302059496567\n"
     ]
    }
   ],
   "source": [
    "#Performing KFold Cross Validation \n",
    "from sklearn.model_selection import StratifiedKFold\n",
    "skf=StratifiedKFold(n_splits=5,random_state=37,shuffle=True)\n",
    "test_accuracies=[]\n",
    "for train_index,test_index in skf.split(X,y):\n",
    "    X_train,X_test=X[train_index],X[test_index]\n",
    "    y_train,y_test=y[train_index],y[test_index]\n",
    "    clf=MLPClassifier()\n",
    "    clf.fit(X_train,y_train)\n",
    "    test_accuracies.append(np.mean(clf.predict(X_test)==y_test))\n",
    "#print(len(test_accuracies))\n",
    "print(\"Maximum test accuracy acheived with K-Fold Cross validation is {}\".format(max(test_accuracies)))"
   ]
  },
  {
   "cell_type": "markdown",
   "metadata": {
    "id": "V8v20n5MlwIZ"
   },
   "source": [
    "# Single Label Intermediate boards optimal play (MLP Classifier)"
   ]
  },
  {
   "cell_type": "code",
   "execution_count": 86,
   "metadata": {
    "id": "RS6ciqNKlwIZ"
   },
   "outputs": [],
   "source": [
    "#Reading the data\n",
    "data=np.loadtxt('tictac_single.txt')\n",
    "\n",
    "#Creating a dataframe to understand the data\n",
    "df=pd.DataFrame(data=data,columns=[\"input_column {}\".format(i) for i in range(1,10)]+[\"target\"])\n",
    "\n",
    "#Separating features and target from the dataframe\n",
    "X=np.array(df.iloc[:,:-1])\n",
    "y=np.array(df.iloc[:,-1])"
   ]
  },
  {
   "cell_type": "code",
   "execution_count": 87,
   "metadata": {
    "id": "3C3HRPFClwIa"
   },
   "outputs": [],
   "source": [
    "#Performing train, test, val split\n",
    "from sklearn.model_selection import train_test_split\n",
    "X_train, X_test, y_train, y_test = train_test_split(X,y,train_size=0.80,shuffle=True)\n",
    "X_train, X_val, y_train, y_val = train_test_split(X_train,y_train,train_size=0.85,shuffle=True)"
   ]
  },
  {
   "cell_type": "code",
   "execution_count": 88,
   "metadata": {
    "colab": {
     "base_uri": "https://localhost:8080/",
     "height": 626
    },
    "id": "MEaVgisolwIa",
    "outputId": "00547e7e-56fd-4b79-ba8b-2fa7ca826b08"
   },
   "outputs": [
    {
     "name": "stdout",
     "output_type": "stream",
     "text": [
      "Classification Accuracy : 0.5293668954996186\n",
      "Confusion Matrix: \n"
     ]
    },
    {
     "data": {
      "image/png": "[encoded data removed]",
      "text/plain": [
       "<Figure size 432x288 with 2 Axes>"
      ]
     },
     "metadata": {
      "needs_background": "light"
     },
     "output_type": "display_data"
    },
    {
     "name": "stdout",
     "output_type": "stream",
     "text": [
      "Normalized confusion matrix: [[0.9556314  0.         0.         0.         0.06220096 0.\n",
      "  0.         0.         0.        ]\n",
      " [0.07508532 0.52222222 0.05699482 0.         0.22966507 0.01136364\n",
      "  0.00943396 0.         0.03448276]\n",
      " [0.09215017 0.17777778 0.40414508 0.04081633 0.22966507 0.\n",
      "  0.01886792 0.         0.02298851]\n",
      " [0.06825939 0.08888889 0.03626943 0.12244898 0.15311005 0.\n",
      "  0.05660377 0.         0.05747126]\n",
      " [0.05460751 0.         0.         0.         0.92344498 0.\n",
      "  0.         0.         0.        ]\n",
      " [0.07167235 0.11666667 0.05699482 0.09183673 0.0861244  0.04545455\n",
      "  0.01886792 0.         0.02298851]\n",
      " [0.07849829 0.08333333 0.07772021 0.12244898 0.0861244  0.\n",
      "  0.20754717 0.         0.01149425]\n",
      " [0.04778157 0.08333333 0.04663212 0.07142857 0.02870813 0.\n",
      "  0.01886792 0.         0.04597701]\n",
      " [0.08532423 0.01666667 0.08290155 0.06122449 0.09569378 0.02272727\n",
      "  0.03773585 0.         0.12643678]]\n"
     ]
    }
   ],
   "source": [
    "skf = StratifiedKFold(n_splits=10, random_state = 40, shuffle=True)\n",
    "#         print(skf.get_n_splits(X, y))\n",
    "clf = MLPClassifier(solver='adam', alpha=1e-3, max_iter=5, hidden_layer_sizes=(256,256,128,), random_state=20, activation = 'tanh')\n",
    "for train_indices, test_indices in skf.split(X_train, y_train):\n",
    "    clf.fit(X[train_indices], np.ravel(y[train_indices], order = 'C'))\n",
    "    #print(clf.score(X[test_indices], y[test_indices]))\n",
    "y_pred = clf.predict(X_test)\n",
    "print(\"Classification Accuracy : \" + str(accuracy_score(y_test, y_pred)))\n",
    "print(\"Confusion Matrix: \")\n",
    "cm_display = ConfusionMatrixDisplay(confusion_matrix = confusion_matrix(y_test,y_pred))\n",
    "cm_display.plot()\n",
    "plt.show()\n",
    "C = confusion_matrix(y_test, y_pred)\n",
    "C = C.astype(np.float)/C.astype(np.float).sum(axis=1)\n",
    "print(\"Normalized confusion matrix:\",C)"
   ]
  },
  {
   "cell_type": "code",
   "execution_count": 89,
   "metadata": {
    "colab": {
     "base_uri": "https://localhost:8080/"
    },
    "id": "GRnRfzfWlwIa",
    "outputId": "48fad262-a0a9-48cc-e6c7-a1f02bb15452"
   },
   "outputs": [
    {
     "name": "stdout",
     "output_type": "stream",
     "text": [
      "Maximum test accuracy acheived with K-Fold Cross validation is 0.8924485125858124\n"
     ]
    }
   ],
   "source": [
    "#Performing KFold Cross Validation \n",
    "from sklearn.model_selection import StratifiedKFold\n",
    "skf=StratifiedKFold(n_splits=15,random_state=37,shuffle=True)\n",
    "test_accuracies=[]\n",
    "for train_index,test_index in skf.split(X,y):\n",
    "    X_train,X_test=X[train_index],X[test_index]\n",
    "    y_train,y_test=y[train_index],y[test_index]\n",
    "    clf=MLPClassifier()\n",
    "    clf.fit(X_train,y_train)\n",
    "    test_accuracies.append(np.mean(clf.predict(X_test)==y_test))\n",
    "#print(len(test_accuracies))\n",
    "print(\"Maximum test accuracy acheived with K-Fold Cross validation is {}\".format(max(test_accuracies)))"
   ]
  },
  {
   "cell_type": "markdown",
   "metadata": {
    "id": "USZJsqrYl5Mh"
   },
   "source": [
    "#Regressors"
   ]
  },
  {
   "cell_type": "markdown",
   "metadata": {
    "id": "0a98d8a1"
   },
   "source": [
    "# Multi output Regression-Intermediate boards optimal play (KNN Regressor)"
   ]
  },
  {
   "cell_type": "code",
   "execution_count": 90,
   "metadata": {
    "id": "22d73a15"
   },
   "outputs": [],
   "source": [
    "#Reading the data\n",
    "data=np.loadtxt('tictac_multi.txt')\n",
    "\n",
    "#Creating a dataframe to understand the data\n",
    "df=pd.DataFrame(data=data,columns=[\"input_column {}\".format(i) for i in range(1,10)]+[\"target_column {}\".format(i) for i in range(1,10)])\n",
    "\n",
    "#Separating features and target from the dataframe\n",
    "X=np.array(df.iloc[:,:9])\n",
    "y=np.array(df.iloc[:,9:])"
   ]
  },
  {
   "cell_type": "code",
   "execution_count": 91,
   "metadata": {
    "id": "289f0d17"
   },
   "outputs": [],
   "source": [
    "#Performing train, test, val split\n",
    "X_train, X_test, y_train, y_test = train_test_split(X,y,train_size=0.8,shuffle=True)\n",
    "X_train, X_val, y_train, y_val = train_test_split(X_train,y_train,train_size=0.75,shuffle=True)"
   ]
  },
  {
   "cell_type": "code",
   "execution_count": 92,
   "metadata": {
    "colab": {
     "base_uri": "https://localhost:8080/",
     "height": 296
    },
    "id": "83fce24e",
    "outputId": "123e09f6-8d69-4016-bddc-019be97ccfa5"
   },
   "outputs": [
    {
     "data": {
      "text/plain": [
       "Text(0, 0.5, 'Validation error')"
      ]
     },
     "execution_count": 92,
     "metadata": {},
     "output_type": "execute_result"
    },
    {
     "data": {
      "image/png": "[encoded data removed]",
      "text/plain": [
       "<Figure size 432x288 with 1 Axes>"
      ]
     },
     "metadata": {
      "needs_background": "light"
     },
     "output_type": "display_data"
    }
   ],
   "source": [
    "#Hyperparameter tuning (Finding suitable number of neighbors)\n",
    "n_neighbors=[]\n",
    "validation_error=[]\n",
    "for i in range(1,10):\n",
    "    n_neighbors.append(i)\n",
    "    k_neighbors_model=KNeighborsRegressor(n_neighbors=i)\n",
    "    k_neighbors_model.fit(X_train,y_train)\n",
    "    validation_error.append(1-np.mean(k_neighbors_model.predict(X_val)==y_val))\n",
    "plt.plot(n_neighbors,validation_error)\n",
    "plt.xlabel(\"Number of neighbors\")\n",
    "plt.ylabel(\"Validation error\")"
   ]
  },
  {
   "cell_type": "code",
   "execution_count": 93,
   "metadata": {
    "colab": {
     "base_uri": "https://localhost:8080/"
    },
    "id": "91bd59b0",
    "outputId": "6882a156-57ed-4522-b137-e59849eb2f03"
   },
   "outputs": [
    {
     "name": "stdout",
     "output_type": "stream",
     "text": [
      "Accuracy of KNN Regressor on Multi dataset is 1.0\n"
     ]
    }
   ],
   "source": [
    "#Finding accuracy of KNN Regressor (number of neighbors=1)\n",
    "final_model=KNeighborsRegressor(n_neighbors=1)\n",
    "final_model.fit(X_test,y_test)\n",
    "y_pred=final_model.predict(X_test)\n",
    "test_error=1-np.mean(np.round(final_model.predict(X_test))==y_test)\n",
    "y_pred=final_model.predict(X_test)\n",
    "print(\"Accuracy of KNN Regressor on Multi dataset is {}\".format(1-test_error))"
   ]
  },
  {
   "cell_type": "code",
   "execution_count": 94,
   "metadata": {
    "colab": {
     "base_uri": "https://localhost:8080/"
    },
    "id": "472c8fc7",
    "outputId": "10b87fc4-69de-4a39-a295-14236b67894e"
   },
   "outputs": [
    {
     "name": "stdout",
     "output_type": "stream",
     "text": [
      "Maximum test accuracy acheived with K-Fold Cross validation is 0.9636980491942324\n"
     ]
    }
   ],
   "source": [
    "#Performing KFold Cross Validation on Final dataset\n",
    "from sklearn.model_selection import KFold\n",
    "skf=KFold(n_splits=10,random_state=37,shuffle=True)\n",
    "test_accuracies=[]\n",
    "for train_index,test_index in skf.split(X,y):\n",
    "    X_train,X_test=X[train_index],X[test_index]\n",
    "    y_train,y_test=y[train_index],y[test_index]\n",
    "    clf=KNeighborsRegressor(n_neighbors=1)\n",
    "    clf.fit(X_train,y_train)\n",
    "    test_accuracies.append(np.mean(np.round(clf.predict(X_test))==y_test))\n",
    "#print(len(test_accuracies))\n",
    "print(\"Maximum test accuracy acheived with K-Fold Cross validation is {}\".format(max(test_accuracies)))"
   ]
  },
  {
   "cell_type": "markdown",
   "metadata": {
    "id": "kUq4DEDJa833"
   },
   "source": [
    "# Linear Regression using Normal Equations"
   ]
  },
  {
   "cell_type": "markdown",
   "metadata": {
    "id": "ptEWLQDWwitk"
   },
   "source": [
    "![Normal Equation.png](data:image/png;base64,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)"
   ]
  },
  {
   "cell_type": "code",
   "execution_count": 95,
   "metadata": {
    "id": "c17e00bb-fe82-4144-92c4-9dd1878d0efc"
   },
   "outputs": [],
   "source": [
    "data_multi = np.loadtxt('tictac_multi.txt')\n",
    "df = pd.DataFrame(data = data_multi)"
   ]
  },
  {
   "cell_type": "code",
   "execution_count": 96,
   "metadata": {
    "colab": {
     "base_uri": "https://localhost:8080/"
    },
    "id": "e5e21805-13fb-4ec3-b0de-6b49cae7fd51",
    "outputId": "08df0efc-64a7-4b2b-90c0-44d80550b4a8"
   },
   "outputs": [
    {
     "name": "stdout",
     "output_type": "stream",
     "text": [
      "       0    1    2    3    4    5    6    7    8    9    10   11   12   13  \\\n",
      "0     1.0 -1.0  0.0  0.0  0.0  0.0  0.0  1.0  0.0  0.0  0.0  0.0  0.0  0.0   \n",
      "1     1.0  0.0  1.0  0.0  0.0  0.0  0.0 -1.0  0.0  0.0  1.0  0.0  1.0  1.0   \n",
      "2     0.0  0.0  0.0  0.0  0.0  1.0  0.0  0.0  0.0  0.0  0.0  1.0  1.0  1.0   \n",
      "3     0.0  1.0  1.0  0.0  0.0  0.0  0.0 -1.0  0.0  1.0  0.0  0.0  0.0  0.0   \n",
      "4     1.0  1.0 -1.0  0.0  0.0  0.0  0.0 -1.0  0.0  0.0  0.0  0.0  1.0  0.0   \n",
      "...   ...  ...  ...  ...  ...  ...  ...  ...  ...  ...  ...  ...  ...  ...   \n",
      "6546 -1.0  0.0  1.0  1.0  1.0 -1.0  0.0  0.0  0.0  0.0  0.0  0.0  0.0  0.0   \n",
      "6547  1.0  0.0  1.0 -1.0  1.0  1.0 -1.0  0.0 -1.0  0.0  0.0  0.0  0.0  0.0   \n",
      "6548 -1.0 -1.0  0.0  1.0  0.0  0.0  1.0  1.0  0.0  0.0  0.0  1.0  0.0  0.0   \n",
      "6549  0.0  1.0  1.0 -1.0 -1.0  1.0  0.0  1.0 -1.0  1.0  0.0  0.0  0.0  0.0   \n",
      "6550  1.0  1.0 -1.0  1.0  0.0  1.0 -1.0 -1.0  0.0  0.0  0.0  0.0  0.0  1.0   \n",
      "\n",
      "       14   15   16   17  \n",
      "0     0.0  1.0  0.0  1.0  \n",
      "1     1.0  1.0  0.0  1.0  \n",
      "2     0.0  0.0  0.0  1.0  \n",
      "3     0.0  0.0  0.0  0.0  \n",
      "4     1.0  1.0  0.0  1.0  \n",
      "...   ...  ...  ...  ...  \n",
      "6546  0.0  1.0  0.0  0.0  \n",
      "6547  0.0  0.0  1.0  0.0  \n",
      "6548  0.0  0.0  0.0  1.0  \n",
      "6549  0.0  0.0  0.0  0.0  \n",
      "6550  0.0  0.0  0.0  1.0  \n",
      "\n",
      "[6551 rows x 18 columns]\n"
     ]
    }
   ],
   "source": [
    "print(df)"
   ]
  },
  {
   "cell_type": "code",
   "execution_count": 97,
   "metadata": {
    "id": "7c363ca1-cf68-4f4a-b5b4-7951bdda23f2"
   },
   "outputs": [],
   "source": [
    "X = np.array(df.iloc[:,:-9])\n",
    "Y = np.array(df.iloc[:,9:])"
   ]
  },
  {
   "cell_type": "code",
   "execution_count": 98,
   "metadata": {
    "id": "af0e1fb1-b814-43c4-af07-bf7dc2d598d3"
   },
   "outputs": [],
   "source": [
    "from sklearn.model_selection import train_test_split\n",
    "X_train, X_test, y_train, y_test = train_test_split(X,Y,train_size=0.8,shuffle=True)"
   ]
  },
  {
   "cell_type": "code",
   "execution_count": 99,
   "metadata": {
    "colab": {
     "base_uri": "https://localhost:8080/"
    },
    "id": "9c4518e0-c120-4aa3-b209-3f3c03be1605",
    "outputId": "517fe1f4-731f-4da8-bf31-bcdfb6c14a2c"
   },
   "outputs": [
    {
     "name": "stdout",
     "output_type": "stream",
     "text": [
      "[[ 1.  0. -1. ...  1. -1. -1.]\n",
      " [ 1. -1.  1. ...  1.  1. -1.]\n",
      " [ 1.  1. -1. ... -1.  1.  0.]\n",
      " ...\n",
      " [ 1.  0. -1. ...  1.  0.  1.]\n",
      " [ 1.  0.  1. ...  1. -1.  0.]\n",
      " [ 1.  1. -1. ...  0.  1. -1.]]\n"
     ]
    }
   ],
   "source": [
    "#adding a bias vector to X\n",
    "x_bias = np.ones((5240,1))\n",
    "x1 = np.append(x_bias, X_train, axis = 1)\n",
    "print(x1)"
   ]
  },
  {
   "cell_type": "code",
   "execution_count": 100,
   "metadata": {
    "colab": {
     "base_uri": "https://localhost:8080/"
    },
    "id": "3db77af8-1ce3-496a-b020-2b59f50badd2",
    "outputId": "f75733c2-b438-4b20-89e1-0c4fb304c653"
   },
   "outputs": [
    {
     "data": {
      "text/plain": [
       "array([[ 1.,  1.,  1., ...,  1.,  1.,  1.],\n",
       "       [ 0., -1.,  1., ...,  0.,  0.,  1.],\n",
       "       [-1.,  1., -1., ..., -1.,  1., -1.],\n",
       "       ...,\n",
       "       [ 1.,  1., -1., ...,  1.,  1.,  0.],\n",
       "       [-1.,  1.,  1., ...,  0., -1.,  1.],\n",
       "       [-1., -1.,  0., ...,  1.,  0., -1.]])"
      ]
     },
     "execution_count": 100,
     "metadata": {},
     "output_type": "execute_result"
    }
   ],
   "source": [
    "#taking transpose of X_new\n",
    "x1_transpose = np.transpose(x1)\n",
    "x1_transpose"
   ]
  },
  {
   "cell_type": "code",
   "execution_count": 101,
   "metadata": {
    "colab": {
     "base_uri": "https://localhost:8080/"
    },
    "id": "7b86d53b-3732-4ecc-a694-88465481f1c0",
    "outputId": "d4cdc1d4-b3cb-4c7f-dac1-91bbe79b441b"
   },
   "outputs": [
    {
     "data": {
      "text/plain": [
       "array([[5240.,  237.,  501.,  276.,  444.,  250.,  463.,  390.,  423.,\n",
       "         333.],\n",
       "       [ 237., 3115., -527., -382., -500., -334.,  -99., -385., -125.,\n",
       "        -445.],\n",
       "       [ 501., -527., 3227., -523., -263., -375., -250., -144., -605.,\n",
       "        -101.],\n",
       "       [ 276., -382., -523., 3158., -123., -325., -531., -442., -101.,\n",
       "        -397.],\n",
       "       [ 444., -500., -263., -123., 3200., -390., -630., -505., -225.,\n",
       "        -122.],\n",
       "       [ 250., -334., -375., -325., -390., 3076., -398., -311., -399.,\n",
       "        -326.],\n",
       "       [ 463.,  -99., -250., -531., -630., -398., 3239., -109., -258.,\n",
       "        -496.],\n",
       "       [ 390., -385., -144., -442., -505., -311., -109., 3118., -517.,\n",
       "        -367.],\n",
       "       [ 423., -125., -605., -101., -225., -399., -258., -517., 3201.,\n",
       "        -535.],\n",
       "       [ 333., -445., -101., -397., -122., -326., -496., -367., -535.,\n",
       "        3113.]])"
      ]
     },
     "execution_count": 101,
     "metadata": {},
     "output_type": "execute_result"
    }
   ],
   "source": [
    "#multiplying X transpose and X_new\n",
    "transpose_x_new = x1_transpose.dot(x1)\n",
    "transpose_x_new"
   ]
  },
  {
   "cell_type": "code",
   "execution_count": 102,
   "metadata": {
    "colab": {
     "base_uri": "https://localhost:8080/"
    },
    "id": "b8fb9cd3-d8c3-48b0-8155-473b34ab08ff",
    "outputId": "7783d778-36cc-4db3-9dfa-8bdb4607cf59"
   },
   "outputs": [
    {
     "name": "stdout",
     "output_type": "stream",
     "text": [
      "[[0. 0. 0. ... 0. 0. 0.]\n",
      " [0. 0. 0. ... 0. 0. 0.]\n",
      " [0. 0. 0. ... 0. 0. 1.]\n",
      " ...\n",
      " [1. 0. 0. ... 0. 1. 0.]\n",
      " [1. 0. 1. ... 0. 0. 0.]\n",
      " [0. 0. 0. ... 1. 0. 0.]]\n",
      "(5240, 9)\n"
     ]
    }
   ],
   "source": [
    "print(y_train)\n",
    "print(y_train.shape)"
   ]
  },
  {
   "cell_type": "code",
   "execution_count": 103,
   "metadata": {
    "colab": {
     "base_uri": "https://localhost:8080/"
    },
    "id": "e8349e4c-c388-41ea-950c-ec5b00177135",
    "outputId": "f470069a-da8d-406f-f4d4-e44f9a10aade"
   },
   "outputs": [
    {
     "data": {
      "text/plain": [
       "array([[ 0.00052129, -0.00050942, -0.00052888, -0.00051288, -0.00052158,\n",
       "        -0.00052613, -0.00052027, -0.00052824, -0.00052158, -0.0005215 ],\n",
       "       [-0.00050942,  0.00107025,  0.00080003,  0.00078256,  0.00078992,\n",
       "         0.00079957,  0.00075659,  0.00079776,  0.00076267,  0.0007936 ],\n",
       "       [-0.00052888,  0.00080003,  0.00108181,  0.00080114,  0.00078114,\n",
       "         0.00081307,  0.00077697,  0.00078888,  0.00080746,  0.00077953],\n",
       "       [-0.00051288,  0.00078256,  0.00080114,  0.00107035,  0.00076405,\n",
       "         0.00080076,  0.00079094,  0.0008008 ,  0.00076293,  0.00079457],\n",
       "       [-0.00052158,  0.00078992,  0.00078114,  0.00076405,  0.0010683 ,\n",
       "         0.00080633,  0.00079801,  0.00080728,  0.00077095,  0.00077262],\n",
       "       [-0.00052613,  0.00079957,  0.00081307,  0.00080076,  0.00080633,\n",
       "         0.00111773,  0.00080376,  0.00081511,  0.00080762,  0.00081069],\n",
       "       [-0.00052027,  0.00075659,  0.00077697,  0.00079094,  0.00079801,\n",
       "         0.00080376,  0.00105944,  0.00077457,  0.00077022,  0.00079782],\n",
       "       [-0.00052824,  0.00079776,  0.00078888,  0.0008008 ,  0.00080728,\n",
       "         0.00081511,  0.00077457,  0.00110368,  0.00080939,  0.0008079 ],\n",
       "       [-0.00052158,  0.00076267,  0.00080746,  0.00076293,  0.00077095,\n",
       "         0.00080762,  0.00077022,  0.00080939,  0.00107003,  0.00080514],\n",
       "       [-0.0005215 ,  0.0007936 ,  0.00077953,  0.00079457,  0.00077262,\n",
       "         0.00081069,  0.00079782,  0.0008079 ,  0.00080514,  0.001093  ]])"
      ]
     },
     "execution_count": 103,
     "metadata": {},
     "output_type": "execute_result"
    }
   ],
   "source": [
    "#Taking inverse of X transpose * X_new\n",
    "temp_1 = np.linalg.inv(transpose_x_new)\n",
    "temp_1"
   ]
  },
  {
   "cell_type": "code",
   "execution_count": 104,
   "metadata": {
    "colab": {
     "base_uri": "https://localhost:8080/"
    },
    "id": "5860c477-1292-4839-96fb-1cbd9e6fef64",
    "outputId": "237c1486-a6ff-4090-de96-d18c421d0cbb"
   },
   "outputs": [
    {
     "name": "stdout",
     "output_type": "stream",
     "text": [
      "theta: [ 0.25446227 -0.03357776 -0.01703676 -0.02111547 -0.01528032 -0.0167998\n",
      " -0.02912966 -0.02347553 -0.03000529  0.00377797]\n",
      "slope: [-0.03357776 -0.01703676 -0.02111547 -0.01528032 -0.0167998  -0.02912966\n",
      " -0.02347553 -0.03000529  0.00377797]\n",
      "slope_list: [array([-0.03357776, -0.01703676, -0.02111547, -0.01528032, -0.0167998 ,\n",
      "       -0.02912966, -0.02347553, -0.03000529,  0.00377797])]\n",
      "theta: [ 0.16353765  0.02665612 -0.0068435   0.01310936  0.02574419  0.03560866\n",
      "  0.02474687  0.03043003  0.00783156  0.03478912]\n",
      "slope: [ 0.02665612 -0.0068435   0.01310936  0.02574419  0.03560866  0.02474687\n",
      "  0.03043003  0.00783156  0.03478912]\n",
      "slope_list: [array([-0.03357776, -0.01703676, -0.02111547, -0.01528032, -0.0167998 ,\n",
      "       -0.02912966, -0.02347553, -0.03000529,  0.00377797]), array([ 0.02665612, -0.0068435 ,  0.01310936,  0.02574419,  0.03560866,\n",
      "        0.02474687,  0.03043003,  0.00783156,  0.03478912])]\n",
      "theta: [ 0.24376511 -0.00714976 -0.01291663 -0.02883278 -0.02643159  0.00350607\n",
      " -0.01058908  0.00771568 -0.03279841 -0.01675425]\n",
      "slope: [-0.00714976 -0.01291663 -0.02883278 -0.02643159  0.00350607 -0.01058908\n",
      "  0.00771568 -0.03279841 -0.01675425]\n",
      "slope_list: [array([-0.03357776, -0.01703676, -0.02111547, -0.01528032, -0.0167998 ,\n",
      "       -0.02912966, -0.02347553, -0.03000529,  0.00377797]), array([ 0.02665612, -0.0068435 ,  0.01310936,  0.02574419,  0.03560866,\n",
      "        0.02474687,  0.03043003,  0.00783156,  0.03478912]), array([-0.00714976, -0.01291663, -0.02883278, -0.02643159,  0.00350607,\n",
      "       -0.01058908,  0.00771568, -0.03279841, -0.01675425])]\n",
      "theta: [ 0.17482975  0.00384499  0.01813113  0.02543711 -0.01940785  0.00608853\n",
      " -0.00598515  0.00373489  0.01011552  0.02404544]\n",
      "slope: [ 0.00384499  0.01813113  0.02543711 -0.01940785  0.00608853 -0.00598515\n",
      "  0.00373489  0.01011552  0.02404544]\n",
      "slope_list: [array([-0.03357776, -0.01703676, -0.02111547, -0.01528032, -0.0167998 ,\n",
      "       -0.02912966, -0.02347553, -0.03000529,  0.00377797]), array([ 0.02665612, -0.0068435 ,  0.01310936,  0.02574419,  0.03560866,\n",
      "        0.02474687,  0.03043003,  0.00783156,  0.03478912]), array([-0.00714976, -0.01291663, -0.02883278, -0.02643159,  0.00350607,\n",
      "       -0.01058908,  0.00771568, -0.03279841, -0.01675425]), array([ 0.00384499,  0.01813113,  0.02543711, -0.01940785,  0.00608853,\n",
      "       -0.00598515,  0.00373489,  0.01011552,  0.02404544])]\n",
      "theta: [ 0.28104548  0.02165996  0.00619904  0.01514949  0.01472321 -0.01036784\n",
      "  0.01592359  0.02066847  0.00179061  0.01431054]\n",
      "slope: [ 0.02165996  0.00619904  0.01514949  0.01472321 -0.01036784  0.01592359\n",
      "  0.02066847  0.00179061  0.01431054]\n",
      "slope_list: [array([-0.03357776, -0.01703676, -0.02111547, -0.01528032, -0.0167998 ,\n",
      "       -0.02912966, -0.02347553, -0.03000529,  0.00377797]), array([ 0.02665612, -0.0068435 ,  0.01310936,  0.02574419,  0.03560866,\n",
      "        0.02474687,  0.03043003,  0.00783156,  0.03478912]), array([-0.00714976, -0.01291663, -0.02883278, -0.02643159,  0.00350607,\n",
      "       -0.01058908,  0.00771568, -0.03279841, -0.01675425]), array([ 0.00384499,  0.01813113,  0.02543711, -0.01940785,  0.00608853,\n",
      "       -0.00598515,  0.00373489,  0.01011552,  0.02404544]), array([ 0.02165996,  0.00619904,  0.01514949,  0.01472321, -0.01036784,\n",
      "        0.01592359,  0.02066847,  0.00179061,  0.01431054])]\n",
      "theta: [ 0.17793988  0.0208566   0.01537894  0.00780965 -0.00569314  0.00433497\n",
      " -0.02091046  0.01848709  0.01489956  0.00121554]\n",
      "slope: [ 0.0208566   0.01537894  0.00780965 -0.00569314  0.00433497 -0.02091046\n",
      "  0.01848709  0.01489956  0.00121554]\n",
      "slope_list: [array([-0.03357776, -0.01703676, -0.02111547, -0.01528032, -0.0167998 ,\n",
      "       -0.02912966, -0.02347553, -0.03000529,  0.00377797]), array([ 0.02665612, -0.0068435 ,  0.01310936,  0.02574419,  0.03560866,\n",
      "        0.02474687,  0.03043003,  0.00783156,  0.03478912]), array([-0.00714976, -0.01291663, -0.02883278, -0.02643159,  0.00350607,\n",
      "       -0.01058908,  0.00771568, -0.03279841, -0.01675425]), array([ 0.00384499,  0.01813113,  0.02543711, -0.01940785,  0.00608853,\n",
      "       -0.00598515,  0.00373489,  0.01011552,  0.02404544]), array([ 0.02165996,  0.00619904,  0.01514949,  0.01472321, -0.01036784,\n",
      "        0.01592359,  0.02066847,  0.00179061,  0.01431054]), array([ 0.0208566 ,  0.01537894,  0.00780965, -0.00569314,  0.00433497,\n",
      "       -0.02091046,  0.01848709,  0.01489956,  0.00121554])]\n",
      "theta: [ 0.2503464  -0.00944723 -0.01222941  0.01171315 -0.00438967 -0.00078224\n",
      " -0.00894753 -0.03369324 -0.00349158 -0.00533773]\n",
      "slope: [-0.00944723 -0.01222941  0.01171315 -0.00438967 -0.00078224 -0.00894753\n",
      " -0.03369324 -0.00349158 -0.00533773]\n",
      "slope_list: [array([-0.03357776, -0.01703676, -0.02111547, -0.01528032, -0.0167998 ,\n",
      "       -0.02912966, -0.02347553, -0.03000529,  0.00377797]), array([ 0.02665612, -0.0068435 ,  0.01310936,  0.02574419,  0.03560866,\n",
      "        0.02474687,  0.03043003,  0.00783156,  0.03478912]), array([-0.00714976, -0.01291663, -0.02883278, -0.02643159,  0.00350607,\n",
      "       -0.01058908,  0.00771568, -0.03279841, -0.01675425]), array([ 0.00384499,  0.01813113,  0.02543711, -0.01940785,  0.00608853,\n",
      "       -0.00598515,  0.00373489,  0.01011552,  0.02404544]), array([ 0.02165996,  0.00619904,  0.01514949,  0.01472321, -0.01036784,\n",
      "        0.01592359,  0.02066847,  0.00179061,  0.01431054]), array([ 0.0208566 ,  0.01537894,  0.00780965, -0.00569314,  0.00433497,\n",
      "       -0.02091046,  0.01848709,  0.01489956,  0.00121554]), array([-0.00944723, -0.01222941,  0.01171315, -0.00438967, -0.00078224,\n",
      "       -0.00894753, -0.03369324, -0.00349158, -0.00533773])]\n",
      "theta: [ 0.16822721  0.03922689  0.00454058  0.03263269  0.02373319  0.03176985\n",
      "  0.02456342  0.02174766 -0.00486273  0.01691802]\n",
      "slope: [ 0.03922689  0.00454058  0.03263269  0.02373319  0.03176985  0.02456342\n",
      "  0.02174766 -0.00486273  0.01691802]\n",
      "slope_list: [array([-0.03357776, -0.01703676, -0.02111547, -0.01528032, -0.0167998 ,\n",
      "       -0.02912966, -0.02347553, -0.03000529,  0.00377797]), array([ 0.02665612, -0.0068435 ,  0.01310936,  0.02574419,  0.03560866,\n",
      "        0.02474687,  0.03043003,  0.00783156,  0.03478912]), array([-0.00714976, -0.01291663, -0.02883278, -0.02643159,  0.00350607,\n",
      "       -0.01058908,  0.00771568, -0.03279841, -0.01675425]), array([ 0.00384499,  0.01813113,  0.02543711, -0.01940785,  0.00608853,\n",
      "       -0.00598515,  0.00373489,  0.01011552,  0.02404544]), array([ 0.02165996,  0.00619904,  0.01514949,  0.01472321, -0.01036784,\n",
      "        0.01592359,  0.02066847,  0.00179061,  0.01431054]), array([ 0.0208566 ,  0.01537894,  0.00780965, -0.00569314,  0.00433497,\n",
      "       -0.02091046,  0.01848709,  0.01489956,  0.00121554]), array([-0.00944723, -0.01222941,  0.01171315, -0.00438967, -0.00078224,\n",
      "       -0.00894753, -0.03369324, -0.00349158, -0.00533773]), array([ 0.03922689,  0.00454058,  0.03263269,  0.02373319,  0.03176985,\n",
      "        0.02456342,  0.02174766, -0.00486273,  0.01691802])]\n",
      "theta: [ 2.40455216e-01  2.10505876e-02 -3.96682806e-03 -1.53325331e-03\n",
      " -1.95571633e-04 -2.74379536e-03 -1.42450456e-03 -3.90213742e-03\n",
      "  2.89162957e-03 -2.35218055e-02]\n",
      "slope: [ 0.02105059 -0.00396683 -0.00153325 -0.00019557 -0.0027438  -0.0014245\n",
      " -0.00390214  0.00289163 -0.02352181]\n",
      "slope_list: [array([-0.03357776, -0.01703676, -0.02111547, -0.01528032, -0.0167998 ,\n",
      "       -0.02912966, -0.02347553, -0.03000529,  0.00377797]), array([ 0.02665612, -0.0068435 ,  0.01310936,  0.02574419,  0.03560866,\n",
      "        0.02474687,  0.03043003,  0.00783156,  0.03478912]), array([-0.00714976, -0.01291663, -0.02883278, -0.02643159,  0.00350607,\n",
      "       -0.01058908,  0.00771568, -0.03279841, -0.01675425]), array([ 0.00384499,  0.01813113,  0.02543711, -0.01940785,  0.00608853,\n",
      "       -0.00598515,  0.00373489,  0.01011552,  0.02404544]), array([ 0.02165996,  0.00619904,  0.01514949,  0.01472321, -0.01036784,\n",
      "        0.01592359,  0.02066847,  0.00179061,  0.01431054]), array([ 0.0208566 ,  0.01537894,  0.00780965, -0.00569314,  0.00433497,\n",
      "       -0.02091046,  0.01848709,  0.01489956,  0.00121554]), array([-0.00944723, -0.01222941,  0.01171315, -0.00438967, -0.00078224,\n",
      "       -0.00894753, -0.03369324, -0.00349158, -0.00533773]), array([ 0.03922689,  0.00454058,  0.03263269,  0.02373319,  0.03176985,\n",
      "        0.02456342,  0.02174766, -0.00486273,  0.01691802]), array([ 0.02105059, -0.00396683, -0.00153325, -0.00019557, -0.0027438 ,\n",
      "       -0.0014245 , -0.00390214,  0.00289163, -0.02352181])]\n"
     ]
    }
   ],
   "source": [
    "#calculating intercept and slope for all 9 Y output vectors \n",
    "intercept_list = []\n",
    "slope_list = []\n",
    "for y in range(9):\n",
    "  temp_2 = x1_transpose.dot(y_train[:,y]) \n",
    "  theta = temp_1.dot(temp_2)\n",
    "  print(\"theta:\",theta)\n",
    "  intercept = theta[0]\n",
    "  intercept_list.append(intercept)\n",
    "  slope = theta[1:]\n",
    "  slope_list.append(slope)\n",
    "  print(\"slope:\",slope)\n",
    "  print(\"slope_list:\",slope_list)"
   ]
  },
  {
   "cell_type": "code",
   "execution_count": 105,
   "metadata": {
    "id": "a294efdd-2c9e-4a57-a6b0-77ce08c340e9"
   },
   "outputs": [],
   "source": [
    "#calculating predicted value\n",
    "def predict_value(X):\n",
    "    predicted_value_list = []\n",
    "    for i in range(9):\n",
    "      predicted_value = 0\n",
    "      for j in range(9):\n",
    "        predicted_value = predicted_value + slope_list[i][j]*X[j] + intercept_list[i]\n",
    "        #print(predicted_value)\n",
    "        if predicted_value >= 0.25:\n",
    "          predicted_value = 1\n",
    "        else:\n",
    "          predicted_value = 0\n",
    "      predicted_value_list.append(predicted_value)\n",
    "    return predicted_value_list"
   ]
  },
  {
   "cell_type": "code",
   "execution_count": 106,
   "metadata": {
    "id": "Rwy1CIaA3b8t"
   },
   "outputs": [],
   "source": [
    "predict_list = []\n",
    "len(X_test)\n",
    "for i in range(1311):\n",
    "  prediction = predict_value(X_test[i,:], )\n",
    "  predict_list.append(prediction)"
   ]
  },
  {
   "cell_type": "code",
   "execution_count": 107,
   "metadata": {
    "colab": {
     "base_uri": "https://localhost:8080/"
    },
    "id": "f0848371-9a87-442c-9b6b-ff6615448232",
    "outputId": "e66fb282-1c14-48bd-8c3e-6092b18c5592"
   },
   "outputs": [
    {
     "name": "stdout",
     "output_type": "stream",
     "text": [
      "[[1, 0, 1, 0, 1, 0, 1, 0, 0], [1, 0, 1, 0, 1, 0, 1, 0, 1], [1, 0, 1, 0, 1, 0, 1, 0, 1], [1, 0, 1, 0, 1, 0, 1, 0, 0], [1, 0, 1, 0, 1, 0, 1, 0, 1], [1, 0, 1, 0, 1, 0, 1, 0, 0], [1, 0, 1, 0, 1, 0, 1, 0, 1], [1, 0, 1, 0, 1, 0, 1, 0, 0], [1, 0, 1, 0, 1, 0, 1, 0, 1], [1, 0, 1, 0, 1, 0, 1, 0, 0], [1, 0, 1, 0, 1, 0, 1, 0, 1], [1, 0, 1, 0, 1, 0, 1, 0, 0], [1, 0, 1, 0, 1, 0, 1, 0, 0], [1, 0, 1, 0, 1, 0, 1, 0, 1], [1, 0, 1, 0, 1, 0, 1, 0, 0], [1, 0, 1, 0, 1, 0, 1, 0, 0], [1, 0, 1, 0, 1, 0, 1, 0, 1], [1, 0, 1, 0, 1, 0, 1, 0, 1], [1, 0, 1, 0, 1, 0, 1, 0, 0], [1, 0, 1, 0, 1, 0, 1, 0, 0], [1, 0, 1, 0, 1, 0, 1, 0, 0], [1, 0, 1, 0, 1, 0, 1, 0, 0], [1, 0, 1, 0, 1, 0, 1, 0, 1], [1, 0, 1, 0, 1, 0, 1, 0, 1], [1, 0, 1, 0, 1, 0, 1, 0, 0], [1, 0, 1, 0, 1, 0, 1, 0, 0], [1, 0, 1, 0, 1, 0, 1, 0, 0], [1, 0, 1, 0, 1, 0, 1, 0, 0], [1, 0, 1, 0, 1, 0, 1, 0, 0], [1, 0, 1, 0, 1, 0, 1, 0, 0], [1, 0, 1, 0, 1, 0, 1, 0, 1], [1, 0, 0, 0, 1, 0, 1, 0, 0], [1, 0, 1, 0, 1, 0, 1, 0, 1], [1, 0, 1, 0, 1, 0, 1, 0, 0], [1, 0, 1, 0, 1, 0, 1, 0, 1], [1, 0, 1, 0, 1, 0, 1, 0, 0], [1, 0, 1, 0, 1, 0, 1, 0, 0], [1, 0, 1, 0, 1, 0, 1, 0, 1], [1, 0, 1, 0, 1, 0, 1, 0, 0], [1, 0, 1, 0, 1, 0, 1, 0, 1], [1, 0, 1, 0, 1, 0, 1, 0, 1], [1, 0, 1, 0, 1, 0, 1, 0, 1], [1, 0, 0, 0, 1, 0, 1, 0, 1], [1, 0, 1, 0, 1, 0, 1, 0, 0], [1, 0, 1, 0, 1, 0, 1, 0, 0], [1, 0, 1, 0, 1, 0, 1, 0, 0], [1, 0, 1, 0, 1, 0, 1, 0, 0], [1, 0, 1, 0, 1, 0, 1, 0, 0], [1, 0, 1, 0, 1, 0, 1, 0, 0], [1, 0, 1, 0, 1, 0, 1, 0, 1], [1, 0, 1, 0, 1, 0, 1, 0, 0], [1, 0, 1, 0, 1, 0, 1, 0, 0], [1, 0, 1, 0, 1, 0, 1, 0, 1], [1, 0, 0, 0, 1, 0, 1, 0, 0], [1, 0, 1, 0, 1, 0, 1, 0, 1], [1, 0, 1, 0, 1, 0, 1, 0, 0], [1, 0, 1, 0, 1, 0, 1, 0, 0], [1, 0, 1, 0, 1, 0, 1, 0, 0], [1, 0, 1, 0, 1, 0, 1, 0, 0], [1, 0, 1, 0, 1, 0, 1, 0, 0], [1, 0, 1, 0, 1, 0, 1, 0, 0], [1, 0, 1, 0, 1, 0, 1, 0, 0], [1, 0, 1, 0, 1, 0, 1, 0, 0], [1, 0, 1, 0, 1, 0, 1, 0, 0], [1, 0, 1, 0, 1, 0, 1, 0, 0], [1, 0, 1, 0, 1, 0, 1, 0, 0], [1, 0, 1, 0, 1, 0, 1, 0, 1], [1, 0, 1, 0, 1, 0, 1, 0, 1], [1, 0, 1, 0, 1, 0, 1, 0, 1], [1, 0, 1, 0, 1, 0, 1, 0, 1], [1, 0, 1, 0, 1, 0, 1, 0, 0], [1, 0, 1, 0, 1, 0, 1, 0, 1], [1, 0, 1, 0, 1, 0, 1, 0, 1], [1, 0, 1, 0, 1, 0, 1, 0, 0], [1, 0, 1, 0, 1, 0, 1, 0, 1], [1, 0, 1, 0, 1, 0, 1, 0, 0], [1, 0, 1, 0, 1, 0, 1, 0, 0], [1, 0, 1, 0, 1, 0, 1, 0, 0], [1, 0, 1, 0, 1, 0, 1, 0, 0], [1, 0, 1, 0, 1, 0, 1, 0, 1], [1, 0, 1, 0, 1, 0, 1, 0, 1], [1, 0, 1, 0, 1, 0, 1, 0, 1], [1, 0, 1, 0, 1, 0, 1, 0, 1], [1, 0, 1, 0, 1, 0, 1, 0, 1], [1, 0, 1, 0, 1, 0, 1, 0, 1], [1, 0, 1, 0, 1, 0, 1, 0, 1], [1, 0, 1, 0, 1, 0, 1, 0, 1], [1, 0, 1, 0, 1, 0, 1, 0, 1], [1, 0, 1, 0, 1, 0, 1, 0, 0], [1, 0, 1, 0, 1, 0, 1, 0, 0], [1, 0, 1, 0, 1, 0, 1, 0, 0], [1, 0, 1, 0, 1, 0, 1, 0, 0], [1, 0, 0, 0, 1, 0, 1, 0, 1], [1, 0, 1, 0, 1, 0, 1, 0, 0], [1, 0, 1, 0, 1, 0, 1, 0, 0], [1, 0, 1, 0, 1, 0, 1, 0, 1], [1, 0, 1, 0, 1, 0, 1, 0, 1], [1, 0, 1, 0, 1, 0, 1, 0, 1], [1, 0, 1, 0, 1, 0, 1, 0, 1], [1, 0, 1, 0, 1, 0, 1, 0, 1], [1, 0, 1, 0, 1, 0, 1, 0, 1], [1, 0, 1, 0, 1, 0, 1, 0, 0], [1, 0, 1, 0, 1, 0, 1, 0, 1], [1, 0, 1, 0, 1, 0, 1, 0, 0], [1, 0, 1, 0, 1, 0, 1, 0, 0], [1, 0, 1, 0, 1, 0, 1, 0, 0], [1, 0, 1, 0, 1, 0, 1, 0, 0], [1, 0, 1, 0, 1, 0, 1, 0, 0], [1, 0, 1, 0, 1, 0, 1, 0, 1], [1, 0, 1, 0, 1, 0, 1, 0, 0], [1, 0, 1, 0, 1, 0, 1, 0, 1], [1, 0, 1, 0, 1, 0, 1, 0, 1], [1, 0, 0, 0, 1, 0, 1, 0, 0], [1, 0, 1, 0, 1, 0, 1, 0, 1], [1, 0, 1, 0, 1, 0, 1, 0, 0], [1, 0, 1, 0, 1, 0, 1, 0, 0], [1, 0, 1, 0, 1, 0, 1, 0, 1], [1, 0, 1, 0, 1, 0, 1, 0, 1], [1, 0, 1, 0, 1, 0, 1, 0, 0], [1, 0, 1, 0, 1, 0, 1, 0, 0], [1, 0, 1, 0, 1, 0, 1, 0, 0], [1, 0, 1, 0, 1, 0, 1, 0, 0], [1, 0, 1, 0, 1, 0, 1, 0, 1], [1, 0, 1, 0, 1, 0, 1, 0, 1], [1, 0, 1, 0, 1, 0, 1, 0, 1], [1, 0, 1, 0, 1, 0, 1, 0, 1], [1, 0, 0, 0, 1, 0, 1, 0, 1], [1, 0, 1, 0, 1, 0, 1, 0, 1], [1, 0, 1, 0, 1, 0, 1, 0, 0], [1, 0, 1, 0, 1, 0, 1, 0, 1], [1, 0, 1, 0, 1, 0, 1, 0, 1], [1, 0, 0, 0, 1, 0, 1, 0, 0], [1, 0, 1, 0, 1, 0, 1, 0, 0], [1, 0, 1, 0, 1, 0, 1, 0, 0], [1, 0, 1, 0, 1, 0, 1, 0, 0], [1, 0, 1, 0, 1, 0, 1, 0, 0], [1, 0, 1, 0, 1, 0, 1, 0, 0], [1, 0, 1, 0, 1, 0, 1, 0, 0], [1, 0, 1, 0, 1, 0, 1, 0, 0], [1, 0, 1, 0, 1, 0, 1, 0, 1], [1, 0, 1, 0, 1, 0, 1, 0, 1], [1, 0, 1, 0, 1, 0, 1, 0, 1], [1, 0, 1, 0, 1, 0, 1, 0, 0], [1, 0, 1, 0, 1, 0, 1, 0, 0], [1, 0, 1, 0, 1, 0, 1, 0, 0], [1, 0, 1, 0, 1, 0, 1, 0, 1], [1, 0, 1, 0, 1, 0, 1, 0, 0], [1, 0, 1, 0, 1, 0, 1, 0, 1], [1, 0, 1, 0, 1, 0, 1, 0, 1], [1, 0, 1, 0, 1, 0, 1, 0, 1], [1, 0, 1, 0, 1, 0, 1, 0, 0], [1, 0, 1, 0, 1, 0, 1, 0, 0], [1, 0, 1, 0, 1, 0, 1, 0, 1], [1, 0, 1, 0, 1, 0, 1, 0, 0], [1, 0, 1, 0, 1, 0, 1, 0, 1], [1, 0, 1, 0, 1, 0, 1, 0, 1], [1, 0, 1, 0, 1, 0, 1, 0, 0], [1, 0, 1, 0, 1, 0, 1, 0, 1], [1, 0, 1, 0, 1, 0, 1, 0, 1], [1, 0, 1, 0, 1, 0, 1, 0, 1], [1, 0, 1, 0, 1, 0, 1, 0, 1], [1, 0, 1, 0, 1, 0, 1, 0, 0], [1, 0, 1, 0, 1, 0, 1, 0, 1], [1, 0, 1, 0, 1, 0, 1, 0, 1], [1, 0, 1, 0, 1, 0, 1, 0, 0], [1, 0, 1, 0, 1, 0, 1, 0, 1], [1, 0, 1, 0, 1, 0, 1, 0, 0], [1, 0, 1, 0, 1, 0, 1, 0, 0], [1, 0, 1, 0, 1, 0, 1, 0, 1], [1, 0, 1, 0, 1, 0, 1, 0, 1], [1, 0, 1, 0, 1, 0, 1, 0, 1], [1, 0, 1, 0, 1, 0, 1, 0, 1], [1, 0, 1, 0, 1, 0, 1, 0, 1], [1, 0, 1, 0, 1, 0, 1, 0, 1], [1, 0, 1, 0, 1, 0, 1, 0, 1], [1, 0, 0, 0, 1, 0, 1, 0, 1], [1, 0, 1, 0, 1, 0, 1, 0, 0], [1, 0, 1, 0, 1, 0, 1, 0, 1], [1, 0, 1, 0, 1, 0, 1, 0, 1], [1, 0, 1, 0, 1, 0, 1, 0, 0], [1, 0, 1, 0, 1, 0, 1, 0, 1], [1, 0, 1, 0, 1, 0, 1, 0, 0], [1, 0, 1, 0, 1, 0, 1, 0, 0], [1, 0, 1, 0, 1, 0, 1, 0, 1], [1, 0, 1, 0, 1, 0, 1, 0, 1], [1, 0, 1, 0, 1, 0, 1, 0, 1], [1, 0, 1, 0, 1, 0, 1, 0, 0], [1, 0, 1, 0, 1, 0, 1, 0, 0], [1, 0, 1, 0, 1, 0, 1, 0, 1], [1, 0, 1, 0, 1, 0, 1, 0, 0], [1, 0, 0, 0, 1, 0, 1, 0, 0], [1, 0, 1, 0, 1, 0, 1, 0, 1], [1, 0, 1, 0, 1, 0, 1, 0, 0], [1, 0, 1, 0, 1, 0, 1, 0, 0], [1, 0, 1, 0, 1, 0, 1, 0, 1], [1, 0, 1, 0, 1, 0, 1, 0, 1], [1, 0, 1, 0, 1, 0, 1, 0, 0], [1, 0, 1, 0, 1, 0, 1, 0, 0], [1, 0, 1, 0, 1, 0, 1, 0, 0], [1, 0, 1, 0, 1, 0, 1, 0, 1], [1, 0, 0, 0, 1, 0, 1, 0, 1], [1, 0, 1, 0, 1, 0, 1, 0, 1], [1, 0, 1, 0, 1, 0, 1, 0, 0], [1, 0, 1, 0, 1, 0, 1, 0, 0], [1, 0, 1, 0, 1, 0, 1, 0, 1], [1, 0, 1, 0, 1, 0, 1, 0, 0], [1, 0, 1, 0, 1, 0, 1, 0, 1], [1, 0, 1, 0, 1, 0, 1, 0, 1], [1, 0, 1, 0, 1, 0, 1, 0, 1], [1, 0, 1, 0, 1, 0, 1, 0, 1], [1, 0, 1, 0, 1, 0, 1, 0, 0], [1, 0, 1, 0, 1, 0, 1, 0, 1], [1, 0, 1, 0, 1, 0, 1, 0, 1], [1, 0, 1, 0, 1, 0, 1, 0, 0], [1, 0, 1, 0, 1, 0, 1, 0, 0], [1, 0, 1, 0, 1, 0, 1, 0, 0], [1, 0, 1, 0, 1, 0, 1, 0, 0], [1, 0, 1, 0, 1, 0, 1, 0, 0], [1, 0, 1, 0, 1, 0, 1, 0, 0], [1, 0, 1, 0, 1, 0, 1, 0, 0], [1, 0, 1, 0, 1, 0, 1, 0, 1], [1, 0, 1, 0, 1, 0, 1, 0, 0], [1, 0, 1, 0, 1, 0, 1, 0, 1], [1, 0, 1, 0, 1, 0, 1, 0, 0], [1, 0, 1, 0, 1, 0, 1, 0, 1], [1, 0, 1, 0, 1, 0, 1, 0, 0], [1, 0, 1, 0, 1, 0, 1, 0, 0], [1, 0, 1, 0, 1, 0, 1, 0, 1], [1, 0, 1, 0, 1, 0, 1, 0, 0], [1, 0, 1, 0, 1, 0, 1, 0, 0], [1, 0, 1, 0, 1, 0, 1, 0, 1], [1, 0, 1, 0, 1, 0, 1, 0, 0], [1, 0, 1, 0, 1, 0, 1, 0, 1], [1, 0, 1, 0, 1, 0, 1, 0, 1], [1, 0, 1, 0, 1, 0, 1, 0, 1], [1, 0, 1, 0, 1, 0, 1, 0, 1], [1, 0, 1, 0, 1, 0, 1, 0, 0], [1, 0, 1, 0, 1, 0, 1, 0, 1], [1, 0, 1, 0, 1, 0, 1, 0, 0], [1, 0, 1, 0, 1, 0, 1, 0, 0], [1, 0, 1, 0, 1, 0, 1, 0, 1], [1, 0, 1, 0, 1, 0, 1, 0, 0], [1, 0, 1, 0, 1, 0, 1, 0, 1], [1, 0, 1, 0, 1, 0, 1, 0, 0], [1, 0, 1, 0, 1, 0, 1, 0, 0], [1, 0, 1, 0, 1, 0, 1, 0, 0], [1, 0, 1, 0, 1, 0, 1, 0, 0], [1, 0, 1, 0, 1, 0, 1, 0, 0], [1, 0, 1, 0, 1, 0, 1, 0, 1], [1, 0, 1, 0, 1, 0, 1, 0, 0], [1, 0, 1, 0, 1, 0, 1, 0, 1], [1, 0, 1, 0, 1, 0, 1, 0, 1], [1, 0, 1, 0, 1, 0, 1, 0, 1], [1, 0, 1, 0, 1, 0, 1, 0, 0], [1, 0, 1, 0, 1, 0, 1, 0, 0], [1, 0, 1, 0, 1, 0, 1, 0, 0], [1, 0, 1, 0, 1, 0, 1, 0, 1], [1, 0, 1, 0, 1, 0, 1, 0, 0], [1, 0, 1, 0, 1, 0, 1, 0, 1], [1, 0, 1, 0, 1, 0, 1, 0, 1], [1, 0, 1, 0, 1, 0, 1, 0, 0], [1, 0, 0, 0, 1, 0, 1, 0, 0], [1, 0, 1, 0, 1, 0, 1, 0, 0], [1, 0, 1, 0, 1, 0, 1, 0, 1], [1, 0, 1, 0, 1, 0, 1, 0, 1], [1, 0, 1, 0, 1, 0, 1, 0, 0], [1, 0, 1, 0, 1, 0, 1, 0, 1], [1, 0, 1, 0, 1, 0, 1, 0, 0], [1, 0, 1, 0, 1, 0, 1, 0, 1], [1, 0, 1, 0, 1, 0, 1, 0, 0], [1, 0, 1, 0, 1, 0, 1, 0, 0], [1, 0, 1, 0, 1, 0, 1, 0, 0], [1, 0, 1, 0, 1, 0, 1, 0, 0], [1, 0, 1, 0, 1, 0, 1, 0, 1], [1, 0, 1, 0, 1, 0, 1, 0, 1], [1, 0, 1, 0, 1, 0, 1, 0, 0], [1, 0, 1, 0, 1, 0, 1, 0, 0], [1, 0, 1, 0, 1, 0, 1, 0, 1], [1, 0, 1, 0, 1, 0, 1, 0, 0], [1, 0, 1, 0, 1, 0, 1, 0, 0], [1, 0, 0, 0, 1, 0, 1, 0, 1], [1, 0, 1, 0, 1, 0, 1, 0, 0], [1, 0, 1, 0, 1, 0, 1, 0, 0], [1, 0, 1, 0, 1, 0, 1, 0, 1], [1, 0, 1, 0, 1, 0, 1, 0, 1], [1, 0, 1, 0, 1, 0, 1, 0, 0], [1, 0, 1, 0, 1, 0, 1, 0, 1], [1, 0, 1, 0, 1, 0, 1, 0, 0], [1, 0, 1, 0, 1, 0, 1, 0, 1], [1, 0, 1, 0, 1, 0, 1, 0, 1], [1, 0, 1, 0, 1, 0, 1, 0, 1], [1, 0, 1, 0, 1, 0, 1, 0, 1], [1, 0, 1, 0, 1, 0, 1, 0, 1], [1, 0, 1, 0, 1, 0, 1, 0, 0], [1, 0, 1, 0, 1, 0, 1, 0, 1], [1, 0, 1, 0, 1, 0, 1, 0, 0], [1, 0, 1, 0, 1, 0, 1, 0, 0], [1, 0, 1, 0, 1, 0, 1, 0, 0], [1, 0, 1, 0, 1, 0, 1, 0, 1], [1, 0, 1, 0, 1, 0, 1, 0, 0], [1, 0, 0, 0, 1, 0, 1, 0, 1], [1, 0, 1, 0, 1, 0, 1, 0, 0], [1, 0, 1, 0, 1, 0, 1, 0, 0], [1, 0, 1, 0, 1, 0, 1, 0, 1], [1, 0, 1, 0, 1, 0, 1, 0, 1], [1, 0, 1, 0, 1, 0, 1, 0, 1], [1, 0, 1, 0, 1, 0, 1, 0, 0], [1, 0, 1, 0, 1, 0, 1, 0, 1], [1, 0, 1, 0, 1, 0, 1, 0, 0], [1, 0, 1, 0, 1, 0, 1, 0, 0], [1, 0, 1, 0, 1, 0, 1, 0, 1], [1, 0, 0, 0, 1, 0, 1, 0, 0], [1, 0, 1, 0, 1, 0, 1, 0, 0], [1, 0, 1, 0, 1, 0, 1, 0, 0], [1, 0, 1, 0, 1, 0, 1, 0, 0], [1, 0, 1, 0, 1, 0, 1, 0, 1], [1, 0, 1, 0, 1, 0, 1, 0, 0], [1, 0, 1, 0, 1, 0, 1, 0, 0], [1, 0, 1, 0, 1, 0, 1, 0, 1], [1, 0, 1, 0, 1, 0, 1, 0, 1], [1, 0, 1, 0, 1, 0, 1, 0, 1], [1, 0, 1, 0, 1, 0, 1, 0, 1], [1, 0, 1, 0, 1, 0, 1, 0, 1], [1, 0, 1, 0, 1, 0, 1, 0, 0], [1, 0, 1, 0, 1, 0, 1, 0, 0], [1, 0, 1, 0, 1, 0, 1, 0, 1], [1, 0, 1, 0, 1, 0, 1, 0, 0], [1, 0, 1, 0, 1, 0, 1, 0, 0], [1, 0, 1, 0, 1, 0, 1, 0, 1], [1, 0, 1, 0, 1, 0, 1, 0, 1], [1, 0, 1, 0, 1, 0, 1, 0, 0], [1, 0, 1, 0, 1, 0, 1, 0, 0], [1, 0, 1, 0, 1, 0, 1, 0, 1], [1, 0, 1, 0, 1, 0, 1, 0, 0], [1, 0, 1, 0, 1, 0, 1, 0, 0], [1, 0, 1, 0, 1, 0, 1, 0, 1], [1, 0, 1, 0, 1, 0, 1, 0, 0], [1, 0, 1, 0, 1, 0, 1, 0, 0], [1, 0, 1, 0, 1, 0, 1, 0, 1], [1, 0, 1, 0, 1, 0, 1, 0, 0], [1, 0, 1, 0, 1, 0, 1, 0, 1], [1, 0, 1, 0, 1, 0, 1, 0, 0], [1, 0, 1, 0, 1, 0, 1, 0, 1], [1, 0, 1, 0, 1, 0, 1, 0, 0], [1, 0, 1, 0, 1, 0, 1, 0, 0], [1, 0, 1, 0, 1, 0, 1, 0, 1], [1, 0, 1, 0, 1, 0, 1, 0, 1], [1, 0, 1, 0, 1, 0, 1, 0, 0], [1, 0, 1, 0, 1, 0, 1, 0, 0], [1, 0, 1, 0, 1, 0, 1, 0, 0], [1, 0, 1, 0, 1, 0, 1, 0, 1], [1, 0, 1, 0, 1, 0, 1, 0, 0], [1, 0, 1, 0, 1, 0, 1, 0, 0], [1, 0, 1, 0, 1, 0, 1, 0, 0], [1, 0, 1, 0, 1, 0, 1, 0, 0], [1, 0, 1, 0, 1, 0, 1, 0, 0], [1, 0, 1, 0, 1, 0, 1, 0, 0], [1, 0, 1, 0, 1, 0, 1, 0, 0], [1, 0, 1, 0, 1, 0, 1, 0, 0], [1, 0, 1, 0, 1, 0, 1, 0, 0], [1, 0, 1, 0, 1, 0, 1, 0, 1], [1, 0, 1, 0, 1, 0, 1, 0, 1], [1, 0, 1, 0, 1, 0, 1, 0, 0], [1, 0, 1, 0, 1, 0, 1, 0, 0], [1, 0, 1, 0, 1, 0, 1, 0, 0], [1, 0, 1, 0, 1, 0, 1, 0, 1], [1, 0, 1, 0, 1, 0, 1, 0, 1], [1, 0, 1, 0, 1, 0, 1, 0, 0], [1, 0, 1, 0, 1, 0, 1, 0, 0], [1, 0, 1, 0, 1, 0, 1, 0, 0], [1, 0, 1, 0, 1, 0, 1, 0, 1], [1, 0, 1, 0, 1, 0, 1, 0, 1], [1, 0, 1, 0, 1, 0, 1, 0, 0], [1, 0, 1, 0, 1, 0, 1, 0, 0], [1, 0, 1, 0, 1, 0, 1, 0, 1], [1, 0, 1, 0, 1, 0, 1, 0, 0], [1, 0, 1, 0, 1, 0, 1, 0, 1], [1, 0, 1, 0, 1, 0, 1, 0, 0], [1, 0, 1, 0, 1, 0, 1, 0, 0], [1, 0, 1, 0, 1, 0, 1, 0, 1], [1, 0, 1, 0, 1, 0, 1, 0, 1], [1, 0, 1, 0, 1, 0, 1, 0, 0], [1, 0, 1, 0, 1, 0, 1, 0, 1], [1, 0, 1, 0, 1, 0, 1, 0, 1], [1, 0, 1, 0, 1, 0, 1, 0, 1], [1, 0, 1, 0, 1, 0, 1, 0, 1], [1, 0, 1, 0, 1, 0, 1, 0, 1], [1, 0, 1, 0, 1, 0, 1, 0, 1], [1, 0, 1, 0, 1, 0, 1, 0, 1], [1, 0, 1, 0, 1, 0, 1, 0, 0], [1, 0, 1, 0, 1, 0, 1, 0, 0], [1, 0, 0, 0, 1, 0, 1, 0, 1], [1, 0, 1, 0, 1, 0, 1, 0, 1], [1, 0, 1, 0, 1, 0, 1, 0, 0], [1, 0, 1, 0, 1, 0, 1, 0, 0], [1, 0, 1, 0, 1, 0, 1, 0, 0], [1, 0, 1, 0, 1, 0, 1, 0, 0], [1, 0, 1, 0, 1, 0, 1, 0, 1], [1, 0, 1, 0, 1, 0, 1, 0, 0], [1, 0, 1, 0, 1, 0, 1, 0, 1], [1, 0, 1, 0, 1, 0, 1, 0, 1], [1, 0, 1, 0, 1, 0, 1, 0, 1], [1, 0, 1, 0, 1, 0, 1, 0, 0], [1, 0, 1, 0, 1, 0, 1, 0, 1], [1, 0, 1, 0, 1, 0, 1, 0, 1], [1, 0, 0, 0, 1, 0, 1, 0, 1], [1, 0, 1, 0, 1, 0, 1, 0, 1], [1, 0, 1, 0, 1, 0, 1, 0, 1], [1, 0, 1, 0, 1, 0, 1, 0, 0], [1, 0, 1, 0, 1, 0, 1, 0, 1], [1, 0, 1, 0, 1, 0, 1, 0, 0], [1, 0, 1, 0, 1, 0, 1, 0, 0], [1, 0, 1, 0, 1, 0, 1, 0, 1], [1, 0, 0, 0, 1, 0, 1, 0, 0], [1, 0, 1, 0, 1, 0, 1, 0, 1], [1, 0, 1, 0, 1, 0, 1, 0, 0], [1, 0, 1, 0, 1, 0, 1, 0, 1], [1, 0, 1, 0, 1, 0, 1, 0, 1], [1, 0, 1, 0, 1, 0, 1, 0, 1], [1, 0, 1, 0, 1, 0, 1, 0, 1], [1, 0, 1, 0, 1, 0, 1, 0, 1], [1, 0, 1, 0, 1, 0, 1, 0, 0], [1, 0, 1, 0, 1, 0, 1, 0, 0], [1, 0, 1, 0, 1, 0, 1, 0, 0], [1, 0, 1, 0, 1, 0, 1, 0, 0], [1, 0, 1, 0, 1, 0, 1, 0, 1], [1, 0, 1, 0, 1, 0, 1, 0, 1], [1, 0, 1, 0, 1, 0, 1, 0, 1], [1, 0, 1, 0, 1, 0, 1, 0, 0], [1, 0, 1, 0, 1, 0, 1, 0, 0], [1, 0, 1, 0, 1, 0, 1, 0, 1], [1, 0, 1, 0, 1, 0, 1, 0, 1], [1, 0, 1, 0, 1, 0, 1, 0, 0], [1, 0, 1, 0, 1, 0, 1, 0, 0], [1, 0, 1, 0, 1, 0, 1, 0, 0], [1, 0, 1, 0, 1, 0, 1, 0, 1], [1, 0, 1, 0, 1, 0, 1, 0, 0], [1, 0, 1, 0, 1, 0, 1, 0, 0], [1, 0, 1, 0, 1, 0, 1, 0, 1], [1, 0, 1, 0, 1, 0, 1, 0, 1], [1, 0, 1, 0, 1, 0, 1, 0, 0], [1, 0, 1, 0, 1, 0, 1, 0, 1], [1, 0, 1, 0, 1, 0, 1, 0, 1], [1, 0, 1, 0, 1, 0, 1, 0, 1], [1, 0, 1, 0, 1, 0, 1, 0, 1], [1, 0, 1, 0, 1, 0, 1, 0, 1], [1, 0, 1, 0, 1, 0, 1, 0, 1], [1, 0, 1, 0, 1, 0, 1, 0, 1], [1, 0, 1, 0, 1, 0, 1, 0, 0], [1, 0, 1, 0, 1, 0, 1, 0, 1], [1, 0, 1, 0, 1, 0, 1, 0, 1], [1, 0, 1, 0, 1, 0, 1, 0, 1], [1, 0, 1, 0, 1, 0, 1, 0, 1], [1, 0, 1, 0, 1, 0, 1, 0, 0], [1, 0, 1, 0, 1, 0, 1, 0, 0], [1, 0, 1, 0, 1, 0, 1, 0, 1], [1, 0, 1, 0, 1, 0, 1, 0, 0], [1, 0, 1, 0, 1, 0, 1, 0, 1], [1, 0, 1, 0, 1, 0, 1, 0, 0], [1, 0, 1, 0, 1, 0, 1, 0, 0], [1, 0, 1, 0, 1, 0, 1, 0, 1], [1, 0, 1, 0, 1, 0, 1, 0, 1], [1, 0, 1, 0, 1, 0, 1, 0, 1], [1, 0, 1, 0, 1, 0, 1, 0, 0], [1, 0, 1, 0, 1, 0, 1, 0, 1], [1, 0, 1, 0, 1, 0, 1, 0, 0], [1, 0, 1, 0, 1, 0, 1, 0, 1], [1, 0, 1, 0, 1, 0, 1, 0, 0], [1, 0, 1, 0, 1, 0, 1, 0, 1], [1, 0, 1, 0, 1, 0, 1, 0, 1], [1, 0, 1, 0, 1, 0, 1, 0, 0], [1, 0, 1, 0, 1, 0, 1, 0, 1], [1, 0, 1, 0, 1, 0, 1, 0, 0], [1, 0, 1, 0, 1, 0, 1, 0, 0], [1, 0, 1, 0, 1, 0, 1, 0, 0], [1, 0, 1, 0, 1, 0, 1, 0, 1], [1, 0, 1, 0, 1, 0, 1, 0, 0], [1, 0, 1, 0, 1, 0, 1, 0, 1], [1, 0, 1, 0, 1, 0, 1, 0, 1], [1, 0, 1, 0, 1, 0, 1, 0, 1], [1, 0, 1, 0, 1, 0, 1, 0, 0], [1, 0, 1, 0, 1, 0, 1, 0, 1], [1, 0, 1, 0, 1, 0, 1, 0, 0], [1, 0, 1, 0, 1, 0, 1, 0, 1], [1, 0, 1, 0, 1, 0, 1, 0, 0], [1, 0, 1, 0, 1, 0, 1, 0, 0], [1, 0, 1, 0, 1, 0, 1, 0, 0], [1, 0, 1, 0, 1, 0, 1, 0, 1], [1, 0, 1, 0, 1, 0, 1, 0, 0], [1, 0, 1, 0, 1, 0, 1, 0, 1], [1, 0, 1, 0, 1, 0, 1, 0, 1], [1, 0, 1, 0, 1, 0, 1, 0, 1], [1, 0, 1, 0, 1, 0, 1, 0, 0], [1, 0, 1, 0, 1, 0, 1, 0, 0], [1, 0, 1, 0, 1, 0, 1, 0, 1], [1, 0, 1, 0, 1, 0, 1, 0, 0], [1, 0, 1, 0, 1, 0, 1, 0, 1], [1, 0, 1, 0, 1, 0, 1, 0, 0], [1, 0, 1, 0, 1, 0, 1, 0, 1], [1, 0, 1, 0, 1, 0, 1, 0, 0], [1, 0, 1, 0, 1, 0, 1, 0, 0], [1, 0, 1, 0, 1, 0, 1, 0, 0], [1, 0, 1, 0, 1, 0, 1, 0, 1], [1, 0, 1, 0, 1, 0, 1, 0, 0], [1, 0, 1, 0, 1, 0, 1, 0, 1], [1, 0, 1, 0, 1, 0, 1, 0, 0], [1, 0, 1, 0, 1, 0, 1, 0, 1], [1, 0, 1, 0, 1, 0, 1, 0, 1], [1, 0, 1, 0, 1, 0, 1, 0, 0], [1, 0, 0, 0, 1, 0, 1, 0, 0], [1, 0, 1, 0, 1, 0, 1, 0, 0], [1, 0, 1, 0, 1, 0, 1, 0, 1], [1, 0, 1, 0, 1, 0, 1, 0, 0], [1, 0, 1, 0, 1, 0, 1, 0, 0], [1, 0, 1, 0, 1, 0, 1, 0, 0], [1, 0, 1, 0, 1, 0, 1, 0, 1], [1, 0, 1, 0, 1, 0, 1, 0, 1], [1, 0, 1, 0, 1, 0, 1, 0, 1], [1, 0, 1, 0, 1, 0, 1, 0, 0], [1, 0, 1, 0, 1, 0, 1, 0, 1], [1, 0, 1, 0, 1, 0, 1, 0, 0], [1, 0, 1, 0, 1, 0, 1, 0, 0], [1, 0, 1, 0, 1, 0, 1, 0, 1], [1, 0, 1, 0, 1, 0, 1, 0, 1], [1, 0, 1, 0, 1, 0, 1, 0, 1], [1, 0, 1, 0, 1, 0, 1, 0, 0], [1, 0, 1, 0, 1, 0, 1, 0, 0], [1, 0, 1, 0, 1, 0, 1, 0, 0], [1, 0, 1, 0, 1, 0, 1, 0, 1], [1, 0, 1, 0, 1, 0, 1, 0, 0], [1, 0, 1, 0, 1, 0, 1, 0, 0], [1, 0, 1, 0, 1, 0, 1, 0, 0], [1, 0, 1, 0, 1, 0, 1, 0, 1], [1, 0, 1, 0, 1, 0, 1, 0, 1], [1, 0, 1, 0, 1, 0, 1, 0, 1], [1, 0, 1, 0, 1, 0, 1, 0, 0], [1, 0, 1, 0, 1, 0, 1, 0, 0], [1, 0, 1, 0, 1, 0, 1, 0, 1], [1, 0, 1, 0, 1, 0, 1, 0, 0], [1, 0, 1, 0, 1, 0, 1, 0, 0], [1, 0, 1, 0, 1, 0, 1, 0, 1], [1, 0, 1, 0, 1, 0, 1, 0, 0], [1, 0, 1, 0, 1, 0, 1, 0, 1], [1, 0, 1, 0, 1, 0, 1, 0, 0], [1, 0, 1, 0, 1, 0, 1, 0, 0], [1, 0, 1, 0, 1, 0, 1, 0, 0], [1, 0, 1, 0, 1, 0, 1, 0, 0], [1, 0, 1, 0, 1, 0, 1, 0, 1], [1, 0, 1, 0, 1, 0, 1, 0, 0], [1, 0, 1, 0, 1, 0, 1, 0, 0], [1, 0, 1, 0, 1, 0, 1, 0, 0], [1, 0, 1, 0, 1, 0, 1, 0, 1], [1, 0, 1, 0, 1, 0, 1, 0, 0], [1, 0, 1, 0, 1, 0, 1, 0, 1], [1, 0, 0, 0, 1, 0, 1, 0, 1], [1, 0, 1, 0, 1, 0, 1, 0, 0], [1, 0, 1, 0, 1, 0, 1, 0, 0], [1, 0, 1, 0, 1, 0, 1, 0, 0], [1, 0, 1, 0, 1, 0, 1, 0, 1], [1, 0, 1, 0, 1, 0, 1, 0, 1], [1, 0, 1, 0, 1, 0, 1, 0, 1], [1, 0, 1, 0, 1, 0, 1, 0, 1], [1, 0, 1, 0, 1, 0, 1, 0, 1], [1, 0, 1, 0, 1, 0, 1, 0, 1], [1, 0, 1, 0, 1, 0, 1, 0, 1], [1, 0, 0, 0, 1, 0, 1, 0, 1], [1, 0, 1, 0, 1, 0, 1, 0, 1], [1, 0, 1, 0, 1, 0, 1, 0, 0], [1, 0, 1, 0, 1, 0, 1, 0, 0], [1, 0, 1, 0, 1, 0, 1, 0, 0], [1, 0, 1, 0, 1, 0, 1, 0, 1], [1, 0, 1, 0, 1, 0, 1, 0, 1], [1, 0, 1, 0, 1, 0, 1, 0, 1], [1, 0, 1, 0, 1, 0, 1, 0, 0], [1, 0, 1, 0, 1, 0, 1, 0, 0], [1, 0, 1, 0, 1, 0, 1, 0, 0], [1, 0, 1, 0, 1, 0, 1, 0, 0], [1, 0, 1, 0, 1, 0, 1, 0, 0], [1, 0, 1, 0, 1, 0, 1, 0, 0], [1, 0, 1, 0, 1, 0, 1, 0, 0], [1, 0, 1, 0, 1, 0, 1, 0, 0], [1, 0, 1, 0, 1, 0, 1, 0, 1], [1, 0, 1, 0, 1, 0, 1, 0, 1], [1, 0, 1, 0, 1, 0, 1, 0, 0], [1, 0, 1, 0, 1, 0, 1, 0, 0], [1, 0, 1, 0, 1, 0, 1, 0, 1], [1, 0, 1, 0, 1, 0, 1, 0, 0], [1, 0, 1, 0, 1, 0, 1, 0, 0], [1, 0, 1, 0, 1, 0, 1, 0, 0], [1, 0, 1, 0, 1, 0, 1, 0, 0], [1, 0, 1, 0, 1, 0, 1, 0, 1], [1, 0, 1, 0, 1, 0, 1, 0, 0], [1, 0, 1, 0, 1, 0, 1, 0, 0], [1, 0, 1, 0, 1, 0, 1, 0, 0], [1, 0, 1, 0, 1, 0, 1, 0, 0], [1, 0, 1, 0, 1, 0, 1, 0, 1], [1, 0, 1, 0, 1, 0, 1, 0, 0], [1, 0, 1, 0, 1, 0, 1, 0, 0], [1, 0, 1, 0, 1, 0, 1, 0, 0], [1, 0, 1, 0, 1, 0, 1, 0, 0], [1, 0, 1, 0, 1, 0, 1, 0, 0], [1, 0, 1, 0, 1, 0, 1, 0, 1], [1, 0, 1, 0, 1, 0, 1, 0, 1], [1, 0, 1, 0, 1, 0, 1, 0, 1], [1, 0, 1, 0, 1, 0, 1, 0, 1], [1, 0, 1, 0, 1, 0, 1, 0, 0], [1, 0, 1, 0, 1, 0, 1, 0, 0], [1, 0, 1, 0, 1, 0, 1, 0, 1], [1, 0, 1, 0, 1, 0, 1, 0, 1], [1, 0, 1, 0, 1, 0, 1, 0, 1], [1, 0, 1, 0, 1, 0, 1, 0, 1], [1, 0, 1, 0, 1, 0, 1, 0, 0], [1, 0, 1, 0, 1, 0, 1, 0, 1], [1, 0, 1, 0, 1, 0, 1, 0, 1], [1, 0, 0, 0, 1, 0, 1, 0, 1], [1, 0, 1, 0, 1, 0, 1, 0, 1], [1, 0, 1, 0, 1, 0, 1, 0, 1], [1, 0, 0, 0, 1, 0, 1, 0, 1], [1, 0, 1, 0, 1, 0, 1, 0, 1], [1, 0, 1, 0, 1, 0, 1, 0, 1], [1, 0, 1, 0, 1, 0, 1, 0, 1], [1, 0, 1, 0, 1, 0, 1, 0, 0], [1, 0, 1, 0, 1, 0, 1, 0, 1], [1, 0, 1, 0, 1, 0, 1, 0, 0], [1, 0, 1, 0, 1, 0, 1, 0, 1], [1, 0, 1, 0, 1, 0, 1, 0, 1], [1, 0, 1, 0, 1, 0, 1, 0, 1], [1, 0, 1, 0, 1, 0, 1, 0, 1], [1, 0, 1, 0, 1, 0, 1, 0, 1], [1, 0, 1, 0, 1, 0, 1, 0, 0], [1, 0, 1, 0, 1, 0, 1, 0, 1], [1, 0, 1, 0, 1, 0, 1, 0, 1], [1, 0, 1, 0, 1, 0, 1, 0, 0], [1, 0, 1, 0, 1, 0, 1, 0, 1], [1, 0, 1, 0, 1, 0, 1, 0, 0], [1, 0, 1, 0, 1, 0, 1, 0, 0], [1, 0, 1, 0, 1, 0, 1, 0, 1], [1, 0, 1, 0, 1, 0, 1, 0, 0], [1, 0, 1, 0, 1, 0, 1, 0, 1], [1, 0, 1, 0, 1, 0, 1, 0, 1], [1, 0, 1, 0, 1, 0, 1, 0, 0], [1, 0, 1, 0, 1, 0, 1, 0, 0], [1, 0, 1, 0, 1, 0, 1, 0, 1], [1, 0, 1, 0, 1, 0, 1, 0, 1], [1, 0, 1, 0, 1, 0, 1, 0, 0], [1, 0, 1, 0, 1, 0, 1, 0, 0], [1, 0, 1, 0, 1, 0, 1, 0, 1], [1, 0, 1, 0, 1, 0, 1, 0, 1], [1, 0, 1, 0, 1, 0, 1, 0, 0], [1, 0, 1, 0, 1, 0, 1, 0, 1], [1, 0, 1, 0, 1, 0, 1, 0, 1], [1, 0, 1, 0, 1, 0, 1, 0, 0], [1, 0, 1, 0, 1, 0, 1, 0, 1], [1, 0, 1, 0, 1, 0, 1, 0, 1], [1, 0, 1, 0, 1, 0, 1, 0, 0], [1, 0, 1, 0, 1, 0, 1, 0, 1], [1, 0, 1, 0, 1, 0, 1, 0, 1], [1, 0, 1, 0, 1, 0, 1, 0, 0], [1, 0, 1, 0, 1, 0, 1, 0, 0], [1, 0, 1, 0, 1, 0, 1, 0, 1], [1, 0, 1, 0, 1, 0, 1, 0, 0], [1, 0, 1, 0, 1, 0, 1, 0, 0], [1, 0, 1, 0, 1, 0, 1, 0, 0], [1, 0, 1, 0, 1, 0, 1, 0, 1], [1, 0, 1, 0, 1, 0, 1, 0, 1], [1, 0, 1, 0, 1, 0, 1, 0, 0], [1, 0, 1, 0, 1, 0, 1, 0, 1], [1, 0, 1, 0, 1, 0, 1, 0, 1], [1, 0, 1, 0, 1, 0, 1, 0, 1], [1, 0, 1, 0, 1, 0, 1, 0, 1], [1, 0, 1, 0, 1, 0, 1, 0, 0], [1, 0, 1, 0, 1, 0, 1, 0, 0], [1, 0, 1, 0, 1, 0, 1, 0, 0], [1, 0, 1, 0, 1, 0, 1, 0, 0], [1, 0, 1, 0, 1, 0, 1, 0, 1], [1, 0, 1, 0, 1, 0, 1, 0, 1], [1, 0, 1, 0, 1, 0, 1, 0, 0], [1, 0, 1, 0, 1, 0, 1, 0, 0], [1, 0, 1, 0, 1, 0, 1, 0, 0], [1, 0, 1, 0, 1, 0, 1, 0, 0], [1, 0, 1, 0, 1, 0, 1, 0, 1], [1, 0, 1, 0, 1, 0, 1, 0, 0], [1, 0, 1, 0, 1, 0, 1, 0, 1], [1, 0, 1, 0, 1, 0, 1, 0, 1], [1, 0, 1, 0, 1, 0, 1, 0, 1], [1, 0, 1, 0, 1, 0, 1, 0, 1], [1, 0, 1, 0, 1, 0, 1, 0, 1], [1, 0, 1, 0, 1, 0, 1, 0, 0], [1, 0, 1, 0, 1, 0, 1, 0, 0], [1, 0, 1, 0, 1, 0, 1, 0, 1], [1, 0, 1, 0, 1, 0, 1, 0, 1], [1, 0, 1, 0, 1, 0, 1, 0, 0], [1, 0, 1, 0, 1, 0, 1, 0, 0], [1, 0, 1, 0, 1, 0, 1, 0, 1], [1, 0, 1, 0, 1, 0, 1, 0, 0], [1, 0, 1, 0, 1, 0, 1, 0, 1], [1, 0, 1, 0, 1, 0, 1, 0, 0], [1, 0, 1, 0, 1, 0, 1, 0, 0], [1, 0, 1, 0, 1, 0, 1, 0, 0], [1, 0, 1, 0, 1, 0, 1, 0, 0], [1, 0, 1, 0, 1, 0, 1, 0, 1], [1, 0, 1, 0, 1, 0, 1, 0, 0], [1, 0, 1, 0, 1, 0, 1, 0, 1], [1, 0, 1, 0, 1, 0, 1, 0, 1], [1, 0, 0, 0, 1, 0, 1, 0, 1], [1, 0, 1, 0, 1, 0, 1, 0, 1], [1, 0, 1, 0, 1, 0, 1, 0, 1], [1, 0, 1, 0, 1, 0, 1, 0, 0], [1, 0, 1, 0, 1, 0, 1, 0, 0], [1, 0, 1, 0, 1, 0, 1, 0, 0], [1, 0, 1, 0, 1, 0, 1, 0, 1], [1, 0, 1, 0, 1, 0, 1, 0, 0], [1, 0, 1, 0, 1, 0, 1, 0, 1], [1, 0, 1, 0, 1, 0, 1, 0, 1], [1, 0, 1, 0, 1, 0, 1, 0, 1], [1, 0, 1, 0, 1, 0, 1, 0, 0], [1, 0, 1, 0, 1, 0, 1, 0, 1], [1, 0, 1, 0, 1, 0, 1, 0, 0], [1, 0, 1, 0, 1, 0, 1, 0, 0], [1, 0, 1, 0, 1, 0, 1, 0, 1], [1, 0, 1, 0, 1, 0, 1, 0, 1], [1, 0, 1, 0, 1, 0, 1, 0, 1], [1, 0, 1, 0, 1, 0, 1, 0, 0], [1, 0, 1, 0, 1, 0, 1, 0, 0], [1, 0, 1, 0, 1, 0, 1, 0, 0], [1, 0, 1, 0, 1, 0, 1, 0, 1], [1, 0, 1, 0, 1, 0, 1, 0, 1], [1, 0, 1, 0, 1, 0, 1, 0, 0], [1, 0, 1, 0, 1, 0, 1, 0, 1], [1, 0, 1, 0, 1, 0, 1, 0, 0], [1, 0, 1, 0, 1, 0, 1, 0, 1], [1, 0, 1, 0, 1, 0, 1, 0, 1], [1, 0, 1, 0, 1, 0, 1, 0, 1], [1, 0, 0, 0, 1, 0, 1, 0, 1], [1, 0, 1, 0, 1, 0, 1, 0, 0], [1, 0, 1, 0, 1, 0, 1, 0, 0], [1, 0, 1, 0, 1, 0, 1, 0, 0], [1, 0, 1, 0, 1, 0, 1, 0, 0], [1, 0, 1, 0, 1, 0, 1, 0, 1], [1, 0, 1, 0, 1, 0, 1, 0, 0], [1, 0, 1, 0, 1, 0, 1, 0, 0], [1, 0, 1, 0, 1, 0, 1, 0, 1], [1, 0, 1, 0, 1, 0, 1, 0, 0], [1, 0, 1, 0, 1, 0, 1, 0, 0], [1, 0, 1, 0, 1, 0, 1, 0, 0], [1, 0, 1, 0, 1, 0, 1, 0, 1], [1, 0, 1, 0, 1, 0, 1, 0, 1], [1, 0, 1, 0, 1, 0, 1, 0, 1], [1, 0, 1, 0, 1, 0, 1, 0, 1], [1, 0, 1, 0, 1, 0, 1, 0, 0], [1, 0, 1, 0, 1, 0, 1, 0, 0], [1, 0, 1, 0, 1, 0, 1, 0, 0], [1, 0, 1, 0, 1, 0, 1, 0, 1], [1, 0, 1, 0, 1, 0, 1, 0, 1], [1, 0, 1, 0, 1, 0, 1, 0, 1], [1, 0, 1, 0, 1, 0, 1, 0, 1], [1, 0, 1, 0, 1, 0, 1, 0, 1], [1, 0, 1, 0, 1, 0, 1, 0, 1], [1, 0, 1, 0, 1, 0, 1, 0, 1], [1, 0, 1, 0, 1, 0, 1, 0, 0], [1, 0, 1, 0, 1, 0, 1, 0, 0], [1, 0, 1, 0, 1, 0, 1, 0, 0], [1, 0, 1, 0, 1, 0, 1, 0, 1], [1, 0, 1, 0, 1, 0, 1, 0, 1], [1, 0, 1, 0, 1, 0, 1, 0, 1], [1, 0, 1, 0, 1, 0, 1, 0, 0], [1, 0, 1, 0, 1, 0, 1, 0, 1], [1, 0, 0, 0, 1, 0, 1, 0, 0], [1, 0, 1, 0, 1, 0, 1, 0, 1], [1, 0, 0, 0, 1, 0, 1, 0, 0], [1, 0, 1, 0, 1, 0, 1, 0, 1], [1, 0, 1, 0, 1, 0, 1, 0, 1], [1, 0, 1, 0, 1, 0, 1, 0, 1], [1, 0, 1, 0, 1, 0, 1, 0, 1], [1, 0, 1, 0, 1, 0, 1, 0, 0], [1, 0, 1, 0, 1, 0, 1, 0, 0], [1, 0, 1, 0, 1, 0, 1, 0, 1], [1, 0, 1, 0, 1, 0, 1, 0, 1], [1, 0, 1, 0, 1, 0, 1, 0, 1], [1, 0, 1, 0, 1, 0, 1, 0, 1], [1, 0, 1, 0, 1, 0, 1, 0, 1], [1, 0, 1, 0, 1, 0, 1, 0, 1], [1, 0, 1, 0, 1, 0, 1, 0, 0], [1, 0, 1, 0, 1, 0, 1, 0, 0], [1, 0, 1, 0, 1, 0, 1, 0, 1], [1, 0, 1, 0, 1, 0, 1, 0, 0], [1, 0, 1, 0, 1, 0, 1, 0, 1], [1, 0, 1, 0, 1, 0, 1, 0, 1], [1, 0, 1, 0, 1, 0, 1, 0, 1], [1, 0, 1, 0, 1, 0, 1, 0, 1], [1, 0, 1, 0, 1, 0, 1, 0, 0], [1, 0, 1, 0, 1, 0, 1, 0, 0], [1, 0, 1, 0, 1, 0, 1, 0, 0], [1, 0, 1, 0, 1, 0, 1, 0, 0], [1, 0, 1, 0, 1, 0, 1, 0, 1], [1, 0, 1, 0, 1, 0, 1, 0, 1], [1, 0, 1, 0, 1, 0, 1, 0, 1], [1, 0, 1, 0, 1, 0, 1, 0, 1], [1, 0, 1, 0, 1, 0, 1, 0, 0], [1, 0, 1, 0, 1, 0, 1, 0, 1], [1, 0, 1, 0, 1, 0, 1, 0, 0], [1, 0, 1, 0, 1, 0, 1, 0, 1], [1, 0, 1, 0, 1, 0, 1, 0, 0], [1, 0, 1, 0, 1, 0, 1, 0, 0], [1, 0, 1, 0, 1, 0, 1, 0, 0], [1, 0, 1, 0, 1, 0, 1, 0, 0], [1, 0, 1, 0, 1, 0, 1, 0, 0], [1, 0, 1, 0, 1, 0, 1, 0, 1], [1, 0, 1, 0, 1, 0, 1, 0, 1], [1, 0, 1, 0, 1, 0, 1, 0, 0], [1, 0, 1, 0, 1, 0, 1, 0, 0], [1, 0, 1, 0, 1, 0, 1, 0, 0], [1, 0, 1, 0, 1, 0, 1, 0, 1], [1, 0, 1, 0, 1, 0, 1, 0, 1], [1, 0, 1, 0, 1, 0, 1, 0, 0], [1, 0, 1, 0, 1, 0, 1, 0, 0], [1, 0, 1, 0, 1, 0, 1, 0, 1], [1, 0, 1, 0, 1, 0, 1, 0, 0], [1, 0, 1, 0, 1, 0, 1, 0, 1], [1, 0, 1, 0, 1, 0, 1, 0, 0], [1, 0, 1, 0, 1, 0, 1, 0, 1], [1, 0, 1, 0, 1, 0, 1, 0, 0], [1, 0, 1, 0, 1, 0, 1, 0, 0], [1, 0, 1, 0, 1, 0, 1, 0, 0], [1, 0, 1, 0, 1, 0, 1, 0, 0], [1, 0, 1, 0, 1, 0, 1, 0, 1], [1, 0, 1, 0, 1, 0, 1, 0, 1], [1, 0, 1, 0, 1, 0, 1, 0, 0], [1, 0, 1, 0, 1, 0, 1, 0, 0], [1, 0, 1, 0, 1, 0, 1, 0, 1], [1, 0, 1, 0, 1, 0, 1, 0, 0], [1, 0, 1, 0, 1, 0, 1, 0, 0], [1, 0, 1, 0, 1, 0, 1, 0, 1], [1, 0, 1, 0, 1, 0, 1, 0, 0], [1, 0, 1, 0, 1, 0, 1, 0, 0], [1, 0, 1, 0, 1, 0, 1, 0, 1], [1, 0, 1, 0, 1, 0, 1, 0, 0], [1, 0, 1, 0, 1, 0, 1, 0, 0], [1, 0, 1, 0, 1, 0, 1, 0, 0], [1, 0, 1, 0, 1, 0, 1, 0, 1], [1, 0, 1, 0, 1, 0, 1, 0, 1], [1, 0, 1, 0, 1, 0, 1, 0, 1], [1, 0, 1, 0, 1, 0, 1, 0, 0], [1, 0, 0, 0, 1, 0, 1, 0, 1], [1, 0, 1, 0, 1, 0, 1, 0, 1], [1, 0, 1, 0, 1, 0, 1, 0, 0], [1, 0, 1, 0, 1, 0, 1, 0, 1], [1, 0, 0, 0, 1, 0, 1, 0, 0], [1, 0, 1, 0, 1, 0, 1, 0, 0], [1, 0, 1, 0, 1, 0, 1, 0, 0], [1, 0, 1, 0, 1, 0, 1, 0, 1], [1, 0, 1, 0, 1, 0, 1, 0, 0], [1, 0, 1, 0, 1, 0, 1, 0, 0], [1, 0, 1, 0, 1, 0, 1, 0, 0], [1, 0, 1, 0, 1, 0, 1, 0, 0], [1, 0, 1, 0, 1, 0, 1, 0, 1], [1, 0, 1, 0, 1, 0, 1, 0, 0], [1, 0, 1, 0, 1, 0, 1, 0, 1], [1, 0, 1, 0, 1, 0, 1, 0, 1], [1, 0, 1, 0, 1, 0, 1, 0, 1], [1, 0, 1, 0, 1, 0, 1, 0, 0], [1, 0, 1, 0, 1, 0, 1, 0, 0], [1, 0, 1, 0, 1, 0, 1, 0, 1], [1, 0, 1, 0, 1, 0, 1, 0, 0], [1, 0, 1, 0, 1, 0, 1, 0, 1], [1, 0, 1, 0, 1, 0, 1, 0, 0], [1, 0, 1, 0, 1, 0, 1, 0, 0], [1, 0, 1, 0, 1, 0, 1, 0, 0], [1, 0, 1, 0, 1, 0, 1, 0, 0], [1, 0, 1, 0, 1, 0, 1, 0, 1], [1, 0, 1, 0, 1, 0, 1, 0, 1], [1, 0, 0, 0, 1, 0, 1, 0, 1], [1, 0, 1, 0, 1, 0, 1, 0, 1], [1, 0, 1, 0, 1, 0, 1, 0, 1], [1, 0, 1, 0, 1, 0, 1, 0, 1], [1, 0, 1, 0, 1, 0, 1, 0, 0], [1, 0, 1, 0, 1, 0, 1, 0, 1], [1, 0, 1, 0, 1, 0, 1, 0, 0], [1, 0, 1, 0, 1, 0, 1, 0, 0], [1, 0, 1, 0, 1, 0, 1, 0, 1], [1, 0, 1, 0, 1, 0, 1, 0, 1], [1, 0, 1, 0, 1, 0, 1, 0, 0], [1, 0, 1, 0, 1, 0, 1, 0, 0], [1, 0, 1, 0, 1, 0, 1, 0, 1], [1, 0, 1, 0, 1, 0, 1, 0, 0], [1, 0, 1, 0, 1, 0, 1, 0, 0], [1, 0, 0, 0, 1, 0, 1, 0, 0], [1, 0, 1, 0, 1, 0, 1, 0, 1], [1, 0, 1, 0, 1, 0, 1, 0, 1], [1, 0, 1, 0, 1, 0, 1, 0, 0], [1, 0, 1, 0, 1, 0, 1, 0, 1], [1, 0, 1, 0, 1, 0, 1, 0, 0], [1, 0, 1, 0, 1, 0, 1, 0, 1], [1, 0, 1, 0, 1, 0, 1, 0, 1], [1, 0, 1, 0, 1, 0, 1, 0, 1], [1, 0, 1, 0, 1, 0, 1, 0, 0], [1, 0, 1, 0, 1, 0, 1, 0, 0], [1, 0, 1, 0, 1, 0, 1, 0, 0], [1, 0, 1, 0, 1, 0, 1, 0, 1], [1, 0, 1, 0, 1, 0, 1, 0, 1], [1, 0, 1, 0, 1, 0, 1, 0, 1], [1, 0, 0, 0, 1, 0, 1, 0, 0], [1, 0, 1, 0, 1, 0, 1, 0, 1], [1, 0, 1, 0, 1, 0, 1, 0, 1], [1, 0, 0, 0, 1, 0, 1, 0, 1], [1, 0, 1, 0, 1, 0, 1, 0, 0], [1, 0, 1, 0, 1, 0, 1, 0, 1], [1, 0, 1, 0, 1, 0, 1, 0, 1], [1, 0, 1, 0, 1, 0, 1, 0, 1], [1, 0, 1, 0, 1, 0, 1, 0, 1], [1, 0, 1, 0, 1, 0, 1, 0, 1], [1, 0, 1, 0, 1, 0, 1, 0, 1], [1, 0, 1, 0, 1, 0, 1, 0, 1], [1, 0, 1, 0, 1, 0, 1, 0, 1], [1, 0, 1, 0, 1, 0, 1, 0, 0], [1, 0, 1, 0, 1, 0, 1, 0, 1], [1, 0, 1, 0, 1, 0, 1, 0, 0], [1, 0, 1, 0, 1, 0, 1, 0, 1], [1, 0, 1, 0, 1, 0, 1, 0, 1], [1, 0, 1, 0, 1, 0, 1, 0, 1], [1, 0, 1, 0, 1, 0, 1, 0, 1], [1, 0, 1, 0, 1, 0, 1, 0, 0], [1, 0, 1, 0, 1, 0, 1, 0, 1], [1, 0, 1, 0, 1, 0, 1, 0, 1], [1, 0, 1, 0, 1, 0, 1, 0, 0], [1, 0, 1, 0, 1, 0, 1, 0, 1], [1, 0, 1, 0, 1, 0, 1, 0, 1], [1, 0, 1, 0, 1, 0, 1, 0, 0], [1, 0, 1, 0, 1, 0, 1, 0, 1], [1, 0, 1, 0, 1, 0, 1, 0, 0], [1, 0, 1, 0, 1, 0, 1, 0, 0], [1, 0, 1, 0, 1, 0, 1, 0, 1], [1, 0, 1, 0, 1, 0, 1, 0, 0], [1, 0, 1, 0, 1, 0, 1, 0, 0], [1, 0, 1, 0, 1, 0, 1, 0, 1], [1, 0, 1, 0, 1, 0, 1, 0, 0], [1, 0, 1, 0, 1, 0, 1, 0, 0], [1, 0, 1, 0, 1, 0, 1, 0, 1], [1, 0, 1, 0, 1, 0, 1, 0, 1], [1, 0, 1, 0, 1, 0, 1, 0, 0], [1, 0, 1, 0, 1, 0, 1, 0, 0], [1, 0, 1, 0, 1, 0, 1, 0, 1], [1, 0, 1, 0, 1, 0, 1, 0, 0], [1, 0, 1, 0, 1, 0, 1, 0, 0], [1, 0, 1, 0, 1, 0, 1, 0, 0], [1, 0, 1, 0, 1, 0, 1, 0, 1], [1, 0, 1, 0, 1, 0, 1, 0, 1], [1, 0, 1, 0, 1, 0, 1, 0, 0], [1, 0, 1, 0, 1, 0, 1, 0, 0], [1, 0, 1, 0, 1, 0, 1, 0, 0], [1, 0, 1, 0, 1, 0, 1, 0, 1], [1, 0, 1, 0, 1, 0, 1, 0, 1], [1, 0, 1, 0, 1, 0, 1, 0, 1], [1, 0, 1, 0, 1, 0, 1, 0, 0], [1, 0, 1, 0, 1, 0, 1, 0, 0], [1, 0, 1, 0, 1, 0, 1, 0, 0], [1, 0, 1, 0, 1, 0, 1, 0, 1], [1, 0, 1, 0, 1, 0, 1, 0, 0], [1, 0, 1, 0, 1, 0, 1, 0, 1], [1, 0, 1, 0, 1, 0, 1, 0, 1], [1, 0, 1, 0, 1, 0, 1, 0, 1], [1, 0, 1, 0, 1, 0, 1, 0, 1], [1, 0, 1, 0, 1, 0, 1, 0, 0], [1, 0, 1, 0, 1, 0, 1, 0, 0], [1, 0, 1, 0, 1, 0, 1, 0, 0], [1, 0, 1, 0, 1, 0, 1, 0, 1], [1, 0, 1, 0, 1, 0, 1, 0, 1], [1, 0, 1, 0, 1, 0, 1, 0, 0], [1, 0, 1, 0, 1, 0, 1, 0, 0], [1, 0, 1, 0, 1, 0, 1, 0, 1], [1, 0, 1, 0, 1, 0, 1, 0, 0], [1, 0, 1, 0, 1, 0, 1, 0, 1], [1, 0, 1, 0, 1, 0, 1, 0, 0], [1, 0, 0, 0, 1, 0, 1, 0, 1], [1, 0, 1, 0, 1, 0, 1, 0, 0], [1, 0, 1, 0, 1, 0, 1, 0, 1], [1, 0, 1, 0, 1, 0, 1, 0, 0], [1, 0, 1, 0, 1, 0, 1, 0, 1], [1, 0, 1, 0, 1, 0, 1, 0, 0], [1, 0, 1, 0, 1, 0, 1, 0, 0], [1, 0, 1, 0, 1, 0, 1, 0, 1], [1, 0, 1, 0, 1, 0, 1, 0, 1], [1, 0, 1, 0, 1, 0, 1, 0, 0], [1, 0, 1, 0, 1, 0, 1, 0, 0], [1, 0, 1, 0, 1, 0, 1, 0, 1], [1, 0, 1, 0, 1, 0, 1, 0, 1], [1, 0, 1, 0, 1, 0, 1, 0, 0], [1, 0, 1, 0, 1, 0, 1, 0, 1], [1, 0, 1, 0, 1, 0, 1, 0, 0], [1, 0, 1, 0, 1, 0, 1, 0, 0], [1, 0, 0, 0, 1, 0, 1, 0, 0], [1, 0, 1, 0, 1, 0, 1, 0, 0], [1, 0, 1, 0, 1, 0, 1, 0, 1], [1, 0, 1, 0, 1, 0, 1, 0, 1], [1, 0, 1, 0, 1, 0, 1, 0, 0], [1, 0, 1, 0, 1, 0, 1, 0, 1], [1, 0, 1, 0, 1, 0, 1, 0, 0], [1, 0, 1, 0, 1, 0, 1, 0, 0], [1, 0, 1, 0, 1, 0, 1, 0, 1], [1, 0, 1, 0, 1, 0, 1, 0, 1], [1, 0, 1, 0, 1, 0, 1, 0, 0], [1, 0, 1, 0, 1, 0, 1, 0, 1], [1, 0, 1, 0, 1, 0, 1, 0, 0], [1, 0, 1, 0, 1, 0, 1, 0, 1], [1, 0, 0, 0, 1, 0, 1, 0, 0], [1, 0, 1, 0, 1, 0, 1, 0, 0], [1, 0, 1, 0, 1, 0, 1, 0, 1], [1, 0, 1, 0, 1, 0, 1, 0, 0], [1, 0, 1, 0, 1, 0, 1, 0, 0], [1, 0, 1, 0, 1, 0, 1, 0, 1], [1, 0, 1, 0, 1, 0, 1, 0, 0], [1, 0, 0, 0, 1, 0, 1, 0, 0], [1, 0, 1, 0, 1, 0, 1, 0, 1], [1, 0, 1, 0, 1, 0, 1, 0, 1], [1, 0, 1, 0, 1, 0, 1, 0, 1], [1, 0, 1, 0, 1, 0, 1, 0, 0], [1, 0, 0, 0, 1, 0, 1, 0, 0], [1, 0, 1, 0, 1, 0, 1, 0, 1], [1, 0, 1, 0, 1, 0, 1, 0, 0], [1, 0, 1, 0, 1, 0, 1, 0, 1], [1, 0, 1, 0, 1, 0, 1, 0, 0], [1, 0, 1, 0, 1, 0, 1, 0, 0], [1, 0, 1, 0, 1, 0, 1, 0, 0], [1, 0, 1, 0, 1, 0, 1, 0, 0], [1, 0, 1, 0, 1, 0, 1, 0, 1], [1, 0, 1, 0, 1, 0, 1, 0, 1], [1, 0, 1, 0, 1, 0, 1, 0, 0], [1, 0, 1, 0, 1, 0, 1, 0, 0], [1, 0, 1, 0, 1, 0, 1, 0, 0], [1, 0, 1, 0, 1, 0, 1, 0, 0], [1, 0, 1, 0, 1, 0, 1, 0, 1], [1, 0, 1, 0, 1, 0, 1, 0, 1], [1, 0, 1, 0, 1, 0, 1, 0, 0], [1, 0, 1, 0, 1, 0, 1, 0, 0], [1, 0, 1, 0, 1, 0, 1, 0, 1], [1, 0, 1, 0, 1, 0, 1, 0, 1], [1, 0, 1, 0, 1, 0, 1, 0, 0], [1, 0, 1, 0, 1, 0, 1, 0, 0], [1, 0, 1, 0, 1, 0, 1, 0, 1], [1, 0, 1, 0, 1, 0, 1, 0, 1], [1, 0, 1, 0, 1, 0, 1, 0, 0], [1, 0, 1, 0, 1, 0, 1, 0, 0], [1, 0, 1, 0, 1, 0, 1, 0, 0], [1, 0, 1, 0, 1, 0, 1, 0, 1], [1, 0, 1, 0, 1, 0, 1, 0, 1], [1, 0, 1, 0, 1, 0, 1, 0, 1], [1, 0, 1, 0, 1, 0, 1, 0, 1], [1, 0, 1, 0, 1, 0, 1, 0, 0], [1, 0, 0, 0, 1, 0, 1, 0, 0], [1, 0, 1, 0, 1, 0, 1, 0, 0], [1, 0, 1, 0, 1, 0, 1, 0, 0], [1, 0, 0, 0, 1, 0, 1, 0, 0], [1, 0, 1, 0, 1, 0, 1, 0, 1], [1, 0, 1, 0, 1, 0, 1, 0, 0], [1, 0, 1, 0, 1, 0, 1, 0, 0], [1, 0, 1, 0, 1, 0, 1, 0, 1], [1, 0, 1, 0, 1, 0, 1, 0, 0], [1, 0, 0, 0, 1, 0, 1, 0, 0], [1, 0, 1, 0, 1, 0, 1, 0, 0], [1, 0, 1, 0, 1, 0, 1, 0, 0], [1, 0, 1, 0, 1, 0, 1, 0, 0], [1, 0, 1, 0, 1, 0, 1, 0, 0], [1, 0, 1, 0, 1, 0, 1, 0, 0], [1, 0, 0, 0, 1, 0, 1, 0, 0], [1, 0, 1, 0, 1, 0, 1, 0, 0], [1, 0, 1, 0, 1, 0, 1, 0, 1], [1, 0, 1, 0, 1, 0, 1, 0, 1], [1, 0, 1, 0, 1, 0, 1, 0, 0], [1, 0, 1, 0, 1, 0, 1, 0, 0], [1, 0, 1, 0, 1, 0, 1, 0, 1], [1, 0, 1, 0, 1, 0, 1, 0, 1], [1, 0, 1, 0, 1, 0, 1, 0, 0], [1, 0, 1, 0, 1, 0, 1, 0, 1], [1, 0, 1, 0, 1, 0, 1, 0, 1], [1, 0, 1, 0, 1, 0, 1, 0, 1], [1, 0, 1, 0, 1, 0, 1, 0, 1], [1, 0, 1, 0, 1, 0, 1, 0, 1], [1, 0, 1, 0, 1, 0, 1, 0, 0], [1, 0, 1, 0, 1, 0, 1, 0, 0], [1, 0, 1, 0, 1, 0, 1, 0, 1], [1, 0, 1, 0, 1, 0, 1, 0, 1], [1, 0, 1, 0, 1, 0, 1, 0, 1], [1, 0, 1, 0, 1, 0, 1, 0, 1], [1, 0, 1, 0, 1, 0, 1, 0, 0], [1, 0, 1, 0, 1, 0, 1, 0, 1], [1, 0, 1, 0, 1, 0, 1, 0, 1], [1, 0, 1, 0, 1, 0, 1, 0, 0], [1, 0, 1, 0, 1, 0, 1, 0, 0], [1, 0, 1, 0, 1, 0, 1, 0, 0], [1, 0, 1, 0, 1, 0, 1, 0, 0], [1, 0, 1, 0, 1, 0, 1, 0, 1], [1, 0, 1, 0, 1, 0, 1, 0, 1], [1, 0, 1, 0, 1, 0, 1, 0, 1], [1, 0, 1, 0, 1, 0, 1, 0, 0], [1, 0, 1, 0, 1, 0, 1, 0, 1], [1, 0, 0, 0, 1, 0, 1, 0, 1], [1, 0, 1, 0, 1, 0, 1, 0, 1], [1, 0, 1, 0, 1, 0, 1, 0, 0], [1, 0, 1, 0, 1, 0, 1, 0, 1], [1, 0, 1, 0, 1, 0, 1, 0, 0], [1, 0, 1, 0, 1, 0, 1, 0, 0], [1, 0, 1, 0, 1, 0, 1, 0, 0], [1, 0, 1, 0, 1, 0, 1, 0, 0], [1, 0, 1, 0, 1, 0, 1, 0, 0], [1, 0, 1, 0, 1, 0, 1, 0, 0], [1, 0, 1, 0, 1, 0, 1, 0, 1], [1, 0, 1, 0, 1, 0, 1, 0, 1], [1, 0, 1, 0, 1, 0, 1, 0, 0], [1, 0, 1, 0, 1, 0, 1, 0, 1], [1, 0, 1, 0, 1, 0, 1, 0, 0], [1, 0, 1, 0, 1, 0, 1, 0, 1], [1, 0, 1, 0, 1, 0, 1, 0, 0], [1, 0, 1, 0, 1, 0, 1, 0, 0], [1, 0, 1, 0, 1, 0, 1, 0, 1], [1, 0, 1, 0, 1, 0, 1, 0, 1], [1, 0, 1, 0, 1, 0, 1, 0, 0], [1, 0, 1, 0, 1, 0, 1, 0, 1], [1, 0, 1, 0, 1, 0, 1, 0, 1], [1, 0, 1, 0, 1, 0, 1, 0, 0], [1, 0, 1, 0, 1, 0, 1, 0, 0], [1, 0, 1, 0, 1, 0, 1, 0, 1], [1, 0, 1, 0, 1, 0, 1, 0, 1], [1, 0, 1, 0, 1, 0, 1, 0, 1], [1, 0, 1, 0, 1, 0, 1, 0, 0], [1, 0, 1, 0, 1, 0, 1, 0, 0], [1, 0, 1, 0, 1, 0, 1, 0, 0], [1, 0, 1, 0, 1, 0, 1, 0, 0], [1, 0, 1, 0, 1, 0, 1, 0, 0], [1, 0, 1, 0, 1, 0, 1, 0, 0], [1, 0, 1, 0, 1, 0, 1, 0, 1], [1, 0, 1, 0, 1, 0, 1, 0, 1], [1, 0, 1, 0, 1, 0, 1, 0, 1], [1, 0, 1, 0, 1, 0, 1, 0, 1], [1, 0, 1, 0, 1, 0, 1, 0, 0], [1, 0, 1, 0, 1, 0, 1, 0, 1], [1, 0, 1, 0, 1, 0, 1, 0, 1], [1, 0, 1, 0, 1, 0, 1, 0, 1], [1, 0, 1, 0, 1, 0, 1, 0, 1], [1, 0, 1, 0, 1, 0, 1, 0, 0], [1, 0, 1, 0, 1, 0, 1, 0, 0], [1, 0, 0, 0, 1, 0, 1, 0, 0], [1, 0, 1, 0, 1, 0, 1, 0, 0], [1, 0, 1, 0, 1, 0, 1, 0, 1], [1, 0, 1, 0, 1, 0, 1, 0, 0], [1, 0, 1, 0, 1, 0, 1, 0, 1], [1, 0, 1, 0, 1, 0, 1, 0, 0], [1, 0, 1, 0, 1, 0, 1, 0, 1], [1, 0, 1, 0, 1, 0, 1, 0, 1], [1, 0, 1, 0, 1, 0, 1, 0, 1], [1, 0, 1, 0, 1, 0, 1, 0, 1], [1, 0, 1, 0, 1, 0, 1, 0, 0], [1, 0, 1, 0, 1, 0, 1, 0, 1], [1, 0, 1, 0, 1, 0, 1, 0, 1], [1, 0, 1, 0, 1, 0, 1, 0, 0], [1, 0, 1, 0, 1, 0, 1, 0, 0], [1, 0, 1, 0, 1, 0, 1, 0, 0], [1, 0, 1, 0, 1, 0, 1, 0, 0], [1, 0, 1, 0, 1, 0, 1, 0, 0], [1, 0, 1, 0, 1, 0, 1, 0, 1], [1, 0, 1, 0, 1, 0, 1, 0, 1], [1, 0, 1, 0, 1, 0, 1, 0, 1], [1, 0, 1, 0, 1, 0, 1, 0, 1], [1, 0, 1, 0, 1, 0, 1, 0, 1], [1, 0, 1, 0, 1, 0, 1, 0, 0], [1, 0, 1, 0, 1, 0, 1, 0, 0], [1, 0, 1, 0, 1, 0, 1, 0, 1], [1, 0, 1, 0, 1, 0, 1, 0, 0], [1, 0, 1, 0, 1, 0, 1, 0, 0], [1, 0, 1, 0, 1, 0, 1, 0, 1], [1, 0, 1, 0, 1, 0, 1, 0, 1], [1, 0, 1, 0, 1, 0, 1, 0, 1], [1, 0, 1, 0, 1, 0, 1, 0, 0], [1, 0, 1, 0, 1, 0, 1, 0, 0], [1, 0, 1, 0, 1, 0, 1, 0, 0], [1, 0, 1, 0, 1, 0, 1, 0, 0], [1, 0, 1, 0, 1, 0, 1, 0, 0], [1, 0, 1, 0, 1, 0, 1, 0, 1], [1, 0, 1, 0, 1, 0, 1, 0, 0], [1, 0, 1, 0, 1, 0, 1, 0, 0], [1, 0, 1, 0, 1, 0, 1, 0, 1], [1, 0, 1, 0, 1, 0, 1, 0, 1], [1, 0, 1, 0, 1, 0, 1, 0, 1], [1, 0, 1, 0, 1, 0, 1, 0, 1], [1, 0, 1, 0, 1, 0, 1, 0, 0], [1, 0, 1, 0, 1, 0, 1, 0, 1], [1, 0, 1, 0, 1, 0, 1, 0, 0], [1, 0, 1, 0, 1, 0, 1, 0, 1], [1, 0, 1, 0, 1, 0, 1, 0, 0], [1, 0, 1, 0, 1, 0, 1, 0, 1], [1, 0, 1, 0, 1, 0, 1, 0, 0], [1, 0, 1, 0, 1, 0, 1, 0, 1], [1, 0, 1, 0, 1, 0, 1, 0, 0], [1, 0, 1, 0, 1, 0, 1, 0, 0], [1, 0, 1, 0, 1, 0, 1, 0, 1], [1, 0, 1, 0, 1, 0, 1, 0, 1], [1, 0, 1, 0, 1, 0, 1, 0, 1], [1, 0, 1, 0, 1, 0, 1, 0, 0], [1, 0, 1, 0, 1, 0, 1, 0, 1], [1, 0, 1, 0, 1, 0, 1, 0, 1], [1, 0, 1, 0, 1, 0, 1, 0, 1], [1, 0, 1, 0, 1, 0, 1, 0, 1], [1, 0, 1, 0, 1, 0, 1, 0, 0], [1, 0, 1, 0, 1, 0, 1, 0, 0], [1, 0, 1, 0, 1, 0, 1, 0, 0], [1, 0, 1, 0, 1, 0, 1, 0, 0], [1, 0, 1, 0, 1, 0, 1, 0, 0], [1, 0, 1, 0, 1, 0, 1, 0, 0], [1, 0, 1, 0, 1, 0, 1, 0, 0], [1, 0, 1, 0, 1, 0, 1, 0, 0], [1, 0, 1, 0, 1, 0, 1, 0, 1], [1, 0, 1, 0, 1, 0, 1, 0, 1], [1, 0, 1, 0, 1, 0, 1, 0, 0], [1, 0, 1, 0, 1, 0, 1, 0, 0], [1, 0, 1, 0, 1, 0, 1, 0, 1], [1, 0, 1, 0, 1, 0, 1, 0, 0], [1, 0, 1, 0, 1, 0, 1, 0, 1], [1, 0, 1, 0, 1, 0, 1, 0, 1], [1, 0, 1, 0, 1, 0, 1, 0, 0], [1, 0, 1, 0, 1, 0, 1, 0, 1], [1, 0, 1, 0, 1, 0, 1, 0, 1], [1, 0, 1, 0, 1, 0, 1, 0, 0], [1, 0, 1, 0, 1, 0, 1, 0, 0], [1, 0, 1, 0, 1, 0, 1, 0, 1], [1, 0, 1, 0, 1, 0, 1, 0, 1], [1, 0, 1, 0, 1, 0, 1, 0, 1], [1, 0, 1, 0, 1, 0, 1, 0, 0], [1, 0, 1, 0, 1, 0, 1, 0, 0], [1, 0, 1, 0, 1, 0, 1, 0, 1], [1, 0, 1, 0, 1, 0, 1, 0, 1], [1, 0, 1, 0, 1, 0, 1, 0, 0], [1, 0, 1, 0, 1, 0, 1, 0, 1], [1, 0, 1, 0, 1, 0, 1, 0, 0], [1, 0, 1, 0, 1, 0, 1, 0, 0], [1, 0, 1, 0, 1, 0, 1, 0, 0], [1, 0, 1, 0, 1, 0, 1, 0, 0], [1, 0, 1, 0, 1, 0, 1, 0, 0], [1, 0, 1, 0, 1, 0, 1, 0, 1], [1, 0, 1, 0, 1, 0, 1, 0, 0], [1, 0, 1, 0, 1, 0, 1, 0, 0], [1, 0, 1, 0, 1, 0, 1, 0, 0], [1, 0, 1, 0, 1, 0, 1, 0, 1], [1, 0, 1, 0, 1, 0, 1, 0, 1], [1, 0, 1, 0, 1, 0, 1, 0, 1], [1, 0, 1, 0, 1, 0, 1, 0, 1], [1, 0, 1, 0, 1, 0, 1, 0, 0], [1, 0, 0, 0, 1, 0, 1, 0, 1], [1, 0, 1, 0, 1, 0, 1, 0, 0], [1, 0, 1, 0, 1, 0, 1, 0, 1], [1, 0, 1, 0, 1, 0, 1, 0, 0], [1, 0, 1, 0, 1, 0, 1, 0, 0], [1, 0, 1, 0, 1, 0, 1, 0, 0], [1, 0, 1, 0, 1, 0, 1, 0, 0], [1, 0, 0, 0, 1, 0, 1, 0, 1], [1, 0, 1, 0, 1, 0, 1, 0, 0], [1, 0, 1, 0, 1, 0, 1, 0, 0], [1, 0, 1, 0, 1, 0, 1, 0, 1], [1, 0, 1, 0, 1, 0, 1, 0, 1], [1, 0, 1, 0, 1, 0, 1, 0, 1], [1, 0, 1, 0, 1, 0, 1, 0, 0], [1, 0, 1, 0, 1, 0, 1, 0, 1], [1, 0, 1, 0, 1, 0, 1, 0, 0], [1, 0, 1, 0, 1, 0, 1, 0, 0], [1, 0, 1, 0, 1, 0, 1, 0, 0], [1, 0, 1, 0, 1, 0, 1, 0, 0], [1, 0, 1, 0, 1, 0, 1, 0, 0], [1, 0, 1, 0, 1, 0, 1, 0, 0], [1, 0, 1, 0, 1, 0, 1, 0, 1], [1, 0, 1, 0, 1, 0, 1, 0, 1], [1, 0, 1, 0, 1, 0, 1, 0, 0], [1, 0, 1, 0, 1, 0, 1, 0, 1], [1, 0, 1, 0, 1, 0, 1, 0, 1], [1, 0, 1, 0, 1, 0, 1, 0, 0], [1, 0, 1, 0, 1, 0, 1, 0, 1], [1, 0, 1, 0, 1, 0, 1, 0, 0], [1, 0, 1, 0, 1, 0, 1, 0, 0], [1, 0, 1, 0, 1, 0, 1, 0, 0], [1, 0, 1, 0, 1, 0, 1, 0, 1], [1, 0, 1, 0, 1, 0, 1, 0, 0], [1, 0, 1, 0, 1, 0, 1, 0, 1], [1, 0, 1, 0, 1, 0, 1, 0, 1], [1, 0, 1, 0, 1, 0, 1, 0, 1], [1, 0, 1, 0, 1, 0, 1, 0, 1], [1, 0, 1, 0, 1, 0, 1, 0, 1], [1, 0, 1, 0, 1, 0, 1, 0, 0], [1, 0, 1, 0, 1, 0, 1, 0, 1], [1, 0, 1, 0, 1, 0, 1, 0, 0], [1, 0, 1, 0, 1, 0, 1, 0, 0], [1, 0, 1, 0, 1, 0, 1, 0, 1], [1, 0, 1, 0, 1, 0, 1, 0, 1], [1, 0, 1, 0, 1, 0, 1, 0, 1], [1, 0, 1, 0, 1, 0, 1, 0, 0], [1, 0, 1, 0, 1, 0, 1, 0, 1], [1, 0, 1, 0, 1, 0, 1, 0, 1], [1, 0, 0, 0, 1, 0, 1, 0, 1], [1, 0, 1, 0, 1, 0, 1, 0, 1], [1, 0, 1, 0, 1, 0, 1, 0, 0], [1, 0, 1, 0, 1, 0, 1, 0, 1], [1, 0, 1, 0, 1, 0, 1, 0, 0], [1, 0, 1, 0, 1, 0, 1, 0, 0], [1, 0, 1, 0, 1, 0, 1, 0, 0], [1, 0, 1, 0, 1, 0, 1, 0, 0], [1, 0, 1, 0, 1, 0, 1, 0, 0], [1, 0, 1, 0, 1, 0, 1, 0, 0], [1, 0, 1, 0, 1, 0, 1, 0, 1], [1, 0, 0, 0, 1, 0, 1, 0, 0], [1, 0, 1, 0, 1, 0, 1, 0, 1], [1, 0, 1, 0, 1, 0, 1, 0, 0], [1, 0, 1, 0, 1, 0, 1, 0, 1], [1, 0, 1, 0, 1, 0, 1, 0, 1], [1, 0, 1, 0, 1, 0, 1, 0, 1], [1, 0, 1, 0, 1, 0, 1, 0, 1]]\n"
     ]
    }
   ],
   "source": [
    "print(predict_list)"
   ]
  },
  {
   "cell_type": "code",
   "execution_count": 108,
   "metadata": {
    "colab": {
     "base_uri": "https://localhost:8080/"
    },
    "id": "wnlLReGd7HSw",
    "outputId": "5457655f-d060-4420-c938-75b717422419"
   },
   "outputs": [
    {
     "name": "stdout",
     "output_type": "stream",
     "text": [
      "accuracy:  0.5061728395061729\n"
     ]
    }
   ],
   "source": [
    "true_positives = 0\n",
    "true_negatives = 0\n",
    "false_positives = 0\n",
    "false_negatives = 0\n",
    "for i in range (9):\n",
    "  for j in range(9):\n",
    "    if(y_test[i][j] == 1 and predict_list[i][j] == 1):\n",
    "      true_positives += 1\n",
    "    elif (y_test[i][j] == 0 and predict_list[i][j] == 0):\n",
    "      true_negatives +=1\n",
    "    elif (y_test[i][j] == 1 and predict_list[i][j] == 0):\n",
    "      false_positives +=1\n",
    "    else:\n",
    "      false_negatives += 1\n",
    "\n",
    "accuracy = (true_positives + true_negatives)/(true_positives + true_negatives + false_positives + false_negatives)\n",
    "print(\"accuracy: \", accuracy)"
   ]
  },
  {
   "cell_type": "markdown",
   "metadata": {
    "id": "UNWp2mDcbAqj"
   },
   "source": [
    "# Linear Regression - K-Fold cross validation"
   ]
  },
  {
   "cell_type": "code",
   "execution_count": 109,
   "metadata": {
    "id": "Y7Upen92nELF"
   },
   "outputs": [],
   "source": [
    "#Reading the data\n",
    "data=np.loadtxt('tictac_multi.txt')\n",
    "\n",
    "#Creating a dataframe to understand the data\n",
    "df=pd.DataFrame(data=data,columns=[\"input_column {}\".format(i) for i in range(1,10)]+[\"target_column {}\".format(i) for i in range(1,10)])\n",
    "\n",
    "#Separating features and target from the dataframe\n",
    "X=np.array(df.iloc[:,:9])\n",
    "y=np.array(df.iloc[:,9:])"
   ]
  },
  {
   "cell_type": "code",
   "execution_count": 110,
   "metadata": {
    "id": "CG6dMgd-nELF"
   },
   "outputs": [],
   "source": [
    "#Performing train, test, val split\n",
    "from sklearn.model_selection import train_test_split\n",
    "X_train, X_test, y_train, y_test = train_test_split(X,y,train_size=0.8,shuffle=True)\n",
    "X_train, X_val, y_train, y_val = train_test_split(X_train,y_train,train_size=0.75,shuffle=True)"
   ]
  },
  {
   "cell_type": "code",
   "execution_count": 111,
   "metadata": {
    "colab": {
     "base_uri": "https://localhost:8080/"
    },
    "id": "KRfnDPFPnELF",
    "outputId": "828dcee9-427b-4b1b-d029-e5457565a46c"
   },
   "outputs": [
    {
     "name": "stdout",
     "output_type": "stream",
     "text": [
      "Accuracy of Linear Regression on tictac_multi:\n"
     ]
    }
   ],
   "source": [
    "# Accuracy of Linear Regressor\n",
    "\n",
    "reg = LinearRegression().fit(X_test, y_test)\n",
    "y_pred=reg.predict(X_test)\n",
    "test_error=1-np.mean(np.round(reg.predict(X_test))==y_test)\n",
    "y_pred=reg.predict(X_test)\n",
    "print(\"Accuracy of Linear Regression on tictac_multi:\".format(1-test_error))"
   ]
  },
  {
   "cell_type": "code",
   "execution_count": 112,
   "metadata": {
    "colab": {
     "base_uri": "https://localhost:8080/"
    },
    "id": "pNMzLHQHnELF",
    "outputId": "730315b7-8ddc-41d9-947f-ae519c16e981"
   },
   "outputs": [
    {
     "name": "stdout",
     "output_type": "stream",
     "text": [
      "Accuracy acheived with K-Fold Cross validation is 0.7903307888040713\n"
     ]
    }
   ],
   "source": [
    "#Performing KFold Cross Validation on dataset\n",
    "from sklearn.model_selection import KFold\n",
    "skf=KFold(n_splits=10,random_state=37,shuffle=True)\n",
    "test_accuracies=[]\n",
    "for train_index,test_index in skf.split(X,y):\n",
    "    X_train,X_test=X[train_index],X[test_index]\n",
    "    y_train,y_test=y[train_index],y[test_index]\n",
    "    model = LinearRegression().fit(X_train,y_train)\n",
    "    test_accuracies.append(np.mean(np.round(model.predict(X_test))==y_test))\n",
    "print(\"Accuracy acheived with K-Fold Cross validation is {}\".format(max(test_accuracies)))"
   ]
  },
  {
   "cell_type": "markdown",
   "metadata": {
    "id": "35a2a5c1"
   },
   "source": [
    "# Multi Label Intermediate boards optimal play (MLP Regressor)"
   ]
  },
  {
   "cell_type": "code",
   "execution_count": 113,
   "metadata": {
    "id": "8b77b9b2"
   },
   "outputs": [],
   "source": [
    "#Reading the data\n",
    "data=np.loadtxt('tictac_multi.txt')\n",
    "\n",
    "#Creating a dataframe to understand the data\n",
    "df=pd.DataFrame(data=data,columns=[\"input_column {}\".format(i) for i in range(1,10)]+[\"target_column {}\".format(i) for i in range(1,10)])\n",
    "\n",
    "#Separating features and target from the dataframe\n",
    "X=np.array(df.iloc[:,:9])\n",
    "y=np.array(df.iloc[:,9:])"
   ]
  },
  {
   "cell_type": "code",
   "execution_count": 114,
   "metadata": {
    "id": "6123c539"
   },
   "outputs": [],
   "source": [
    "#Performing train, test, val split\n",
    "from sklearn.model_selection import train_test_split\n",
    "X_train, X_test, y_train, y_test = train_test_split(X,y,train_size=0.8,shuffle=True)\n",
    "X_train, X_val, y_train, y_val = train_test_split(X_train,y_train,train_size=0.75,shuffle=True)"
   ]
  },
  {
   "cell_type": "code",
   "execution_count": 115,
   "metadata": {
    "colab": {
     "base_uri": "https://localhost:8080/"
    },
    "id": "ff2f1b29",
    "outputId": "ddbdcd3b-94f7-4128-d042-caa4bdccab0f"
   },
   "outputs": [
    {
     "name": "stdout",
     "output_type": "stream",
     "text": [
      "Regressor score (R^2) : \n",
      "0.6785245854911729\n"
     ]
    }
   ],
   "source": [
    "regr = MLPRegressor(solver='adam', alpha=1e-6, max_iter=300, hidden_layer_sizes=(256,256,128,9), random_state=777, activation = 'relu')\n",
    "regr.fit(X_train, y_train)\n",
    "print(\"Regressor score (R^2) : \")\n",
    "print(regr.score(X_test, y_test))"
   ]
  },
  {
   "cell_type": "code",
   "execution_count": 116,
   "metadata": {
    "colab": {
     "base_uri": "https://localhost:8080/"
    },
    "id": "1849439f",
    "outputId": "10b8e800-1480-4a1e-9b78-803a67132cf9"
   },
   "outputs": [
    {
     "name": "stdout",
     "output_type": "stream",
     "text": [
      "Maximum test accuracy acheived with K-Fold Cross validation is 0.9229855810008482\n"
     ]
    }
   ],
   "source": [
    "from sklearn.model_selection import KFold\n",
    "kf=KFold(n_splits=10,random_state=37,shuffle=True)\n",
    "test_accuracies=[]\n",
    "for train_index,test_index in kf.split(X,y):\n",
    "    X_train,X_test=X[train_index],X[test_index]\n",
    "    y_train,y_test=y[train_index],y[test_index]\n",
    "    clf=MLPRegressor()\n",
    "    clf.fit(X_train,y_train)\n",
    "    test_accuracies.append(np.mean(np.round(clf.predict(X_test))==y_test))\n",
    "#print(len(test_accuracies))\n",
    "print(\"Maximum test accuracy acheived with K-Fold Cross validation is {}\".format(max(test_accuracies)))"
   ]
  }
 ],
 "metadata": {
  "colab": {
   "provenance": []
  },
  "kernelspec": {
   "display_name": "Python 3",
   "language": "python",
   "name": "python3"
  },
  "language_info": {
   "codemirror_mode": {
    "name": "ipython",
    "version": 3
   },
   "file_extension": ".py",
   "mimetype": "text/x-python",
   "name": "python",
   "nbconvert_exporter": "python",
   "pygments_lexer": "ipython3",
   "version": "3.9.5"
  }
 },
 "nbformat": 4,
 "nbformat_minor": 1
}
