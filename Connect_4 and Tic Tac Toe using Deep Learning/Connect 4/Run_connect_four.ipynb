{
 "cells": [
  {
   "cell_type": "code",
   "execution_count": 8,
   "id": "e1e36a85",
   "metadata": {},
   "outputs": [
    {
     "name": "stderr",
     "output_type": "stream",
     "text": [
      "C:\\Users\\shaan\\Miniconda3\\lib\\site-packages\\sklearn\\base.py:329: UserWarning: Trying to unpickle estimator LabelBinarizer from version 1.0.2 when using version 1.1.2. This might lead to breaking code or invalid results. Use at your own risk. For more info please refer to:\n",
      "https://scikit-learn.org/stable/model_persistence.html#security-maintainability-limitations\n",
      "  warnings.warn(\n",
      "C:\\Users\\shaan\\Miniconda3\\lib\\site-packages\\sklearn\\base.py:329: UserWarning: Trying to unpickle estimator MLPClassifier from version 1.0.2 when using version 1.1.2. This might lead to breaking code or invalid results. Use at your own risk. For more info please refer to:\n",
      "https://scikit-learn.org/stable/model_persistence.html#security-maintainability-limitations\n",
      "  warnings.warn(\n"
     ]
    }
   ],
   "source": [
    "run Connect4.py"
   ]
  },
  {
   "cell_type": "markdown",
   "id": "290c71fc",
   "metadata": {},
   "source": [
    "# HUMAN WINS"
   ]
  },
  {
   "cell_type": "code",
   "execution_count": 9,
   "id": "5303e6ac",
   "metadata": {},
   "outputs": [
    {
     "name": "stdout",
     "output_type": "stream",
     "text": [
      "[['b' 'b' 'b' 'b' 'b' 'b' 'b']\n",
      " ['b' 'b' 'b' 'b' 'b' 'b' 'b']\n",
      " ['b' 'b' 'b' 'b' 'b' 'b' 'b']\n",
      " ['b' 'b' 'b' 'b' 'b' 'b' 'b']\n",
      " ['b' 'b' 'b' 'b' 'b' 'b' 'b']\n",
      " ['b' 'b' 'b' 'b' 'x' 'b' 'o']]\n"
     ]
    }
   ],
   "source": [
    "from Connect4 import *\n",
    " \n",
    "main([['b', 'b', 'b', 'b', 'b', 'b', 'b'],\n",
    "       ['b', 'b', 'b', 'b', 'b', 'b', 'b'],\n",
    "       ['b', 'b', 'b', 'b', 'b', 'b', 'b'],\n",
    "       ['b', 'b', 'b', 'b', 'b', 'b', 'b'],\n",
    "       ['b', 'b', 'b', 'b', 'b', 'b', 'b'],\n",
    "       ['b', 'b', 'b', 'b', 'x', 'b', 'b']])"
   ]
  },
  {
   "cell_type": "code",
   "execution_count": 10,
   "id": "ee8163e2",
   "metadata": {},
   "outputs": [
    {
     "name": "stdout",
     "output_type": "stream",
     "text": [
      "[['b' 'b' 'b' 'b' 'b' 'b' 'b']\n",
      " ['b' 'b' 'b' 'b' 'b' 'b' 'b']\n",
      " ['b' 'b' 'b' 'b' 'b' 'b' 'b']\n",
      " ['b' 'b' 'b' 'b' 'b' 'b' 'b']\n",
      " ['b' 'b' 'b' 'b' 'b' 'b' 'o']\n",
      " ['b' 'b' 'b' 'b' 'x' 'x' 'o']]\n"
     ]
    }
   ],
   "source": [
    "main([['b', 'b', 'b', 'b', 'b', 'b', 'b'],\n",
    "       ['b', 'b', 'b', 'b', 'b', 'b', 'b'],\n",
    "       ['b', 'b', 'b', 'b', 'b', 'b', 'b'],\n",
    "       ['b', 'b', 'b', 'b', 'b', 'b', 'b'],\n",
    "       ['b', 'b', 'b', 'b', 'b', 'b', 'b'],\n",
    "       ['b', 'b', 'b', 'b', 'x', 'x', 'o']])"
   ]
  },
  {
   "cell_type": "code",
   "execution_count": 11,
   "id": "e6a1b8a5",
   "metadata": {},
   "outputs": [
    {
     "name": "stdout",
     "output_type": "stream",
     "text": [
      "[['b' 'b' 'b' 'b' 'b' 'b' 'b']\n",
      " ['b' 'b' 'b' 'b' 'b' 'b' 'b']\n",
      " ['b' 'b' 'b' 'b' 'b' 'b' 'b']\n",
      " ['b' 'b' 'b' 'b' 'b' 'b' 'o']\n",
      " ['b' 'b' 'b' 'b' 'b' 'b' 'o']\n",
      " ['b' 'b' 'b' 'x' 'x' 'x' 'o']]\n"
     ]
    }
   ],
   "source": [
    "main([['b', 'b', 'b', 'b', 'b', 'b', 'b'],\n",
    "       ['b', 'b', 'b', 'b', 'b', 'b', 'b'],\n",
    "       ['b', 'b', 'b', 'b', 'b', 'b', 'b'],\n",
    "       ['b', 'b', 'b', 'b', 'b', 'b', 'b'],\n",
    "       ['b', 'b', 'b', 'b', 'b', 'b', 'o'],\n",
    "       ['b', 'b', 'b', 'x', 'x', 'x', 'o']])"
   ]
  },
  {
   "cell_type": "code",
   "execution_count": 12,
   "id": "fce92d92",
   "metadata": {},
   "outputs": [
    {
     "name": "stdout",
     "output_type": "stream",
     "text": [
      "[['b' 'b' 'b' 'b' 'b' 'b' 'b']\n",
      " ['b' 'b' 'b' 'b' 'b' 'b' 'b']\n",
      " ['b' 'b' 'b' 'b' 'b' 'b' 'b']\n",
      " ['b' 'b' 'b' 'b' 'b' 'b' 'o']\n",
      " ['b' 'b' 'b' 'b' 'b' 'o' 'o']\n",
      " ['b' 'b' 'x' 'x' 'x' 'x' 'o']]\n"
     ]
    }
   ],
   "source": [
    "main([['b', 'b', 'b', 'b', 'b', 'b', 'b'],\n",
    "       ['b', 'b', 'b', 'b', 'b', 'b', 'b'],\n",
    "       ['b', 'b', 'b', 'b', 'b', 'b', 'b'],\n",
    "       ['b', 'b', 'b', 'b', 'b', 'b', 'o'],\n",
    "       ['b', 'b', 'b', 'b', 'b', 'b', 'o'],\n",
    "       ['b', 'b', 'x', 'x', 'x', 'x', 'o']])"
   ]
  },
  {
   "cell_type": "markdown",
   "id": "68ff76c4",
   "metadata": {},
   "source": [
    "# HUMAN LOSES"
   ]
  },
  {
   "cell_type": "code",
   "execution_count": 17,
   "id": "d2501ac7",
   "metadata": {},
   "outputs": [
    {
     "name": "stdout",
     "output_type": "stream",
     "text": [
      "[['b' 'b' 'b' 'b' 'b' 'b' 'b']\n",
      " ['b' 'b' 'b' 'b' 'b' 'b' 'b']\n",
      " ['b' 'b' 'b' 'b' 'b' 'b' 'b']\n",
      " ['b' 'b' 'b' 'b' 'b' 'b' 'b']\n",
      " ['b' 'b' 'b' 'b' 'b' 'b' 'b']\n",
      " ['b' 'b' 'b' 'b' 'o' 'b' 'x']]\n"
     ]
    }
   ],
   "source": [
    "from Connect4 import *\n",
    " \n",
    "main([['b', 'b', 'b', 'b', 'b', 'b', 'b'],\n",
    "       ['b', 'b', 'b', 'b', 'b', 'b', 'b'],\n",
    "       ['b', 'b', 'b', 'b', 'b', 'b', 'b'],\n",
    "       ['b', 'b', 'b', 'b', 'b', 'b', 'b'],\n",
    "       ['b', 'b', 'b', 'b', 'b', 'b', 'b'],\n",
    "       ['b', 'b', 'b', 'b', 'b', 'b', 'x']])"
   ]
  },
  {
   "cell_type": "code",
   "execution_count": 18,
   "id": "50d1a915",
   "metadata": {},
   "outputs": [
    {
     "name": "stdout",
     "output_type": "stream",
     "text": [
      "[['b' 'b' 'b' 'b' 'b' 'b' 'b']\n",
      " ['b' 'b' 'b' 'b' 'b' 'b' 'b']\n",
      " ['b' 'b' 'b' 'b' 'b' 'b' 'b']\n",
      " ['b' 'b' 'b' 'b' 'b' 'b' 'b']\n",
      " ['b' 'b' 'b' 'b' 'b' 'b' 'o']\n",
      " ['b' 'b' 'b' 'b' 'o' 'x' 'x']]\n"
     ]
    }
   ],
   "source": [
    "main([['b', 'b', 'b', 'b', 'b', 'b', 'b'],\n",
    "       ['b', 'b', 'b', 'b', 'b', 'b', 'b'],\n",
    "       ['b', 'b', 'b', 'b', 'b', 'b', 'b'],\n",
    "       ['b', 'b', 'b', 'b', 'b', 'b', 'b'],\n",
    "       ['b', 'b', 'b', 'b', 'b', 'b', 'b'],\n",
    "       ['b', 'b', 'b', 'b', 'o', 'x', 'x']])"
   ]
  },
  {
   "cell_type": "code",
   "execution_count": 19,
   "id": "4d18891d",
   "metadata": {},
   "outputs": [
    {
     "name": "stdout",
     "output_type": "stream",
     "text": [
      "[['b' 'b' 'b' 'b' 'b' 'b' 'b']\n",
      " ['b' 'b' 'b' 'b' 'b' 'b' 'b']\n",
      " ['b' 'b' 'b' 'b' 'b' 'b' 'b']\n",
      " ['b' 'b' 'b' 'b' 'b' 'b' 'o']\n",
      " ['b' 'b' 'b' 'b' 'b' 'x' 'o']\n",
      " ['b' 'b' 'b' 'b' 'o' 'x' 'x']]\n"
     ]
    }
   ],
   "source": [
    "main([['b', 'b', 'b', 'b', 'b', 'b', 'b'],\n",
    "       ['b', 'b', 'b', 'b', 'b', 'b', 'b'],\n",
    "       ['b', 'b', 'b', 'b', 'b', 'b', 'b'],\n",
    "       ['b', 'b', 'b', 'b', 'b', 'b', 'b'],\n",
    "       ['b', 'b', 'b', 'b', 'b', 'x', 'o'],\n",
    "       ['b', 'b', 'b', 'b', 'o', 'x', 'x']])"
   ]
  },
  {
   "cell_type": "code",
   "execution_count": 20,
   "id": "b0b5e3d5",
   "metadata": {},
   "outputs": [
    {
     "name": "stdout",
     "output_type": "stream",
     "text": [
      "[['b' 'b' 'b' 'b' 'b' 'b' 'b']\n",
      " ['b' 'b' 'b' 'b' 'b' 'b' 'b']\n",
      " ['b' 'b' 'b' 'b' 'b' 'b' 'o']\n",
      " ['b' 'b' 'b' 'b' 'b' 'b' 'o']\n",
      " ['b' 'b' 'b' 'b' 'b' 'x' 'o']\n",
      " ['b' 'b' 'b' 'x' 'o' 'x' 'x']]\n"
     ]
    }
   ],
   "source": [
    "main([['b', 'b', 'b', 'b', 'b', 'b', 'b'],\n",
    "       ['b', 'b', 'b', 'b', 'b', 'b', 'b'],\n",
    "       ['b', 'b', 'b', 'b', 'b', 'b', 'b'],\n",
    "       ['b', 'b', 'b', 'b', 'b', 'b', 'o'],\n",
    "       ['b', 'b', 'b', 'b', 'b', 'x', 'o'],\n",
    "       ['b', 'b', 'b', 'x', 'o', 'x', 'x']])"
   ]
  },
  {
   "cell_type": "code",
   "execution_count": 21,
   "id": "d5d1a8ab",
   "metadata": {},
   "outputs": [
    {
     "name": "stdout",
     "output_type": "stream",
     "text": [
      "[['b' 'b' 'b' 'b' 'b' 'b' 'b']\n",
      " ['b' 'b' 'b' 'b' 'b' 'b' 'o']\n",
      " ['b' 'b' 'b' 'b' 'b' 'b' 'o']\n",
      " ['b' 'b' 'b' 'b' 'b' 'b' 'o']\n",
      " ['b' 'b' 'b' 'b' 'b' 'x' 'o']\n",
      " ['b' 'b' 'x' 'x' 'o' 'x' 'x']]\n"
     ]
    }
   ],
   "source": [
    "main([['b', 'b', 'b', 'b', 'b', 'b', 'b'],\n",
    "       ['b', 'b', 'b', 'b', 'b', 'b', 'b'],\n",
    "       ['b', 'b', 'b', 'b', 'b', 'b', 'o'],\n",
    "       ['b', 'b', 'b', 'b', 'b', 'b', 'o'],\n",
    "       ['b', 'b', 'b', 'b', 'b', 'x', 'o'],\n",
    "       ['b', 'b', 'x', 'x', 'o', 'x', 'x']])"
   ]
  },
  {
   "cell_type": "code",
   "execution_count": null,
   "id": "aae43965",
   "metadata": {},
   "outputs": [],
   "source": []
  }
 ],
 "metadata": {
  "kernelspec": {
   "display_name": "Python 3",
   "language": "python",
   "name": "python3"
  },
  "language_info": {
   "codemirror_mode": {
    "name": "ipython",
    "version": 3
   },
   "file_extension": ".py",
   "mimetype": "text/x-python",
   "name": "python",
   "nbconvert_exporter": "python",
   "pygments_lexer": "ipython3",
   "version": "3.9.5"
  }
 },
 "nbformat": 4,
 "nbformat_minor": 5
}
